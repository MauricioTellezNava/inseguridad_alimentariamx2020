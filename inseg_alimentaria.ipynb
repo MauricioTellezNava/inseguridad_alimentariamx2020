{
  "nbformat": 4,
  "nbformat_minor": 0,
  "metadata": {
    "colab": {
      "provenance": [],
      "toc_visible": true,
      "mount_file_id": "1_kIdJDVw8fXKTEkX-IjII727nPRKT1Rf",
      "authorship_tag": "ABX9TyMANXoVKUmjqx0eJRUKLqS2",
      "include_colab_link": true
    },
    "kernelspec": {
      "name": "python3",
      "display_name": "Python 3"
    },
    "language_info": {
      "name": "python"
    }
  },
  "cells": [
    {
      "cell_type": "markdown",
      "metadata": {
        "id": "view-in-github",
        "colab_type": "text"
      },
      "source": [
        "<a href=\"https://colab.research.google.com/github/MauricioTellezNava/inseguridad_alimentariamx2020/blob/main/inseg_alimentaria.ipynb\" target=\"_parent\"><img src=\"https://colab.research.google.com/assets/colab-badge.svg\" alt=\"Open In Colab\"/></a>"
      ]
    },
    {
      "cell_type": "markdown",
      "source": [
        "# Notas\n",
        "\n",
        "Se utilizó la Encuesta Nacional de Ingresos y Gastos de los Hogares (ENIGH) 2020 para construir el dataframe \"df\". Para su creación se procesaron siete conjuntos de datos, los cuales contenían información relacionada con el ingreso, gasto por hogar, trabajo, población, vivienda y hogar.\n",
        "\n",
        "El dataset final \"df\" cuenta con 79,274 registros y 113 columnas."
      ],
      "metadata": {
        "id": "06QOk3BG5VDh"
      }
    },
    {
      "cell_type": "markdown",
      "source": [
        "## Objetivos\n",
        "\n",
        "El objetivo de este proyecto consiste en entrenar un modelo de Machine Learning capaz de predecir la cantidad de hogares mexicanos que presentan inseguridad alimentaria.."
      ],
      "metadata": {
        "id": "jMHhSzKn69mq"
      }
    },
    {
      "cell_type": "markdown",
      "source": [
        "## Carga"
      ],
      "metadata": {
        "id": "8F4zuDjT6xog"
      }
    },
    {
      "cell_type": "code",
      "execution_count": null,
      "metadata": {
        "id": "v8MWgoJl4_yF"
      },
      "outputs": [],
      "source": [
        "import pandas as pd\n",
        "import numpy as np\n",
        "import matplotlib.pyplot as plt\n",
        "import seaborn as sns"
      ]
    },
    {
      "cell_type": "code",
      "source": [
        "df = pd.read_csv(\"/content/drive/MyDrive/DEV F. - Proyectos/PROYECTS/Cobertura médica en los hogares mexicanos/df.csv\")\n",
        "print(df.shape)\n",
        "df.head()"
      ],
      "metadata": {
        "colab": {
          "base_uri": "https://localhost:8080/",
          "height": 253
        },
        "id": "2iPP8NRW6v0m",
        "outputId": "fff0846f-fcf6-4fe1-db72-371100113ab6"
      },
      "execution_count": null,
      "outputs": [
        {
          "output_type": "stream",
          "name": "stdout",
          "text": [
            "(79274, 113)\n"
          ]
        },
        {
          "output_type": "execute_result",
          "data": {
            "text/plain": [
              "    folioviv  numrentrab  htrab  scian  sinco  medtrab_7   ing_tri  gasto_tri  \\\n",
              "0  100013605           1     30      1      1          0  16229.49   22693.22   \n",
              "1  100013606           1     48      1      1          0  23827.86   18931.42   \n",
              "2  100017801           2     70      2      2          0  37421.77   44520.13   \n",
              "3  100017802           1     40      1      1          0  71557.37   76500.43   \n",
              "4  100017803           1     40      1      1          0  71803.26   30140.68   \n",
              "\n",
              "   numrenpob       edad  ...  num_radio  num_refri  num_tosta  num_tva  \\\n",
              "0          3  26.333333  ...          0          1          0        0   \n",
              "1          4  29.250000  ...          1          1          0        0   \n",
              "2          2  26.000000  ...          0          1          1        0   \n",
              "3          2  18.000000  ...          0          1          1        0   \n",
              "4          2  61.000000  ...          0          1          0        0   \n",
              "\n",
              "   num_tvd  num_van  num_venti  num_video  tsalud1_h  tv_paga  \n",
              "0        0        0          1          0          0        2  \n",
              "1        2        0          0          0          0        2  \n",
              "2        2        0          1          0          0        2  \n",
              "3        1        0          4          0          0        1  \n",
              "4        3        0          2          0          0        1  \n",
              "\n",
              "[5 rows x 113 columns]"
            ],
            "text/html": [
              "\n",
              "  <div id=\"df-5ac3cad5-7bdf-4cc4-88ba-4599907c4174\">\n",
              "    <div class=\"colab-df-container\">\n",
              "      <div>\n",
              "<style scoped>\n",
              "    .dataframe tbody tr th:only-of-type {\n",
              "        vertical-align: middle;\n",
              "    }\n",
              "\n",
              "    .dataframe tbody tr th {\n",
              "        vertical-align: top;\n",
              "    }\n",
              "\n",
              "    .dataframe thead th {\n",
              "        text-align: right;\n",
              "    }\n",
              "</style>\n",
              "<table border=\"1\" class=\"dataframe\">\n",
              "  <thead>\n",
              "    <tr style=\"text-align: right;\">\n",
              "      <th></th>\n",
              "      <th>folioviv</th>\n",
              "      <th>numrentrab</th>\n",
              "      <th>htrab</th>\n",
              "      <th>scian</th>\n",
              "      <th>sinco</th>\n",
              "      <th>medtrab_7</th>\n",
              "      <th>ing_tri</th>\n",
              "      <th>gasto_tri</th>\n",
              "      <th>numrenpob</th>\n",
              "      <th>edad</th>\n",
              "      <th>...</th>\n",
              "      <th>num_radio</th>\n",
              "      <th>num_refri</th>\n",
              "      <th>num_tosta</th>\n",
              "      <th>num_tva</th>\n",
              "      <th>num_tvd</th>\n",
              "      <th>num_van</th>\n",
              "      <th>num_venti</th>\n",
              "      <th>num_video</th>\n",
              "      <th>tsalud1_h</th>\n",
              "      <th>tv_paga</th>\n",
              "    </tr>\n",
              "  </thead>\n",
              "  <tbody>\n",
              "    <tr>\n",
              "      <th>0</th>\n",
              "      <td>100013605</td>\n",
              "      <td>1</td>\n",
              "      <td>30</td>\n",
              "      <td>1</td>\n",
              "      <td>1</td>\n",
              "      <td>0</td>\n",
              "      <td>16229.49</td>\n",
              "      <td>22693.22</td>\n",
              "      <td>3</td>\n",
              "      <td>26.333333</td>\n",
              "      <td>...</td>\n",
              "      <td>0</td>\n",
              "      <td>1</td>\n",
              "      <td>0</td>\n",
              "      <td>0</td>\n",
              "      <td>0</td>\n",
              "      <td>0</td>\n",
              "      <td>1</td>\n",
              "      <td>0</td>\n",
              "      <td>0</td>\n",
              "      <td>2</td>\n",
              "    </tr>\n",
              "    <tr>\n",
              "      <th>1</th>\n",
              "      <td>100013606</td>\n",
              "      <td>1</td>\n",
              "      <td>48</td>\n",
              "      <td>1</td>\n",
              "      <td>1</td>\n",
              "      <td>0</td>\n",
              "      <td>23827.86</td>\n",
              "      <td>18931.42</td>\n",
              "      <td>4</td>\n",
              "      <td>29.250000</td>\n",
              "      <td>...</td>\n",
              "      <td>1</td>\n",
              "      <td>1</td>\n",
              "      <td>0</td>\n",
              "      <td>0</td>\n",
              "      <td>2</td>\n",
              "      <td>0</td>\n",
              "      <td>0</td>\n",
              "      <td>0</td>\n",
              "      <td>0</td>\n",
              "      <td>2</td>\n",
              "    </tr>\n",
              "    <tr>\n",
              "      <th>2</th>\n",
              "      <td>100017801</td>\n",
              "      <td>2</td>\n",
              "      <td>70</td>\n",
              "      <td>2</td>\n",
              "      <td>2</td>\n",
              "      <td>0</td>\n",
              "      <td>37421.77</td>\n",
              "      <td>44520.13</td>\n",
              "      <td>2</td>\n",
              "      <td>26.000000</td>\n",
              "      <td>...</td>\n",
              "      <td>0</td>\n",
              "      <td>1</td>\n",
              "      <td>1</td>\n",
              "      <td>0</td>\n",
              "      <td>2</td>\n",
              "      <td>0</td>\n",
              "      <td>1</td>\n",
              "      <td>0</td>\n",
              "      <td>0</td>\n",
              "      <td>2</td>\n",
              "    </tr>\n",
              "    <tr>\n",
              "      <th>3</th>\n",
              "      <td>100017802</td>\n",
              "      <td>1</td>\n",
              "      <td>40</td>\n",
              "      <td>1</td>\n",
              "      <td>1</td>\n",
              "      <td>0</td>\n",
              "      <td>71557.37</td>\n",
              "      <td>76500.43</td>\n",
              "      <td>2</td>\n",
              "      <td>18.000000</td>\n",
              "      <td>...</td>\n",
              "      <td>0</td>\n",
              "      <td>1</td>\n",
              "      <td>1</td>\n",
              "      <td>0</td>\n",
              "      <td>1</td>\n",
              "      <td>0</td>\n",
              "      <td>4</td>\n",
              "      <td>0</td>\n",
              "      <td>0</td>\n",
              "      <td>1</td>\n",
              "    </tr>\n",
              "    <tr>\n",
              "      <th>4</th>\n",
              "      <td>100017803</td>\n",
              "      <td>1</td>\n",
              "      <td>40</td>\n",
              "      <td>1</td>\n",
              "      <td>1</td>\n",
              "      <td>0</td>\n",
              "      <td>71803.26</td>\n",
              "      <td>30140.68</td>\n",
              "      <td>2</td>\n",
              "      <td>61.000000</td>\n",
              "      <td>...</td>\n",
              "      <td>0</td>\n",
              "      <td>1</td>\n",
              "      <td>0</td>\n",
              "      <td>0</td>\n",
              "      <td>3</td>\n",
              "      <td>0</td>\n",
              "      <td>2</td>\n",
              "      <td>0</td>\n",
              "      <td>0</td>\n",
              "      <td>1</td>\n",
              "    </tr>\n",
              "  </tbody>\n",
              "</table>\n",
              "<p>5 rows × 113 columns</p>\n",
              "</div>\n",
              "      <button class=\"colab-df-convert\" onclick=\"convertToInteractive('df-5ac3cad5-7bdf-4cc4-88ba-4599907c4174')\"\n",
              "              title=\"Convert this dataframe to an interactive table.\"\n",
              "              style=\"display:none;\">\n",
              "        \n",
              "  <svg xmlns=\"http://www.w3.org/2000/svg\" height=\"24px\"viewBox=\"0 0 24 24\"\n",
              "       width=\"24px\">\n",
              "    <path d=\"M0 0h24v24H0V0z\" fill=\"none\"/>\n",
              "    <path d=\"M18.56 5.44l.94 2.06.94-2.06 2.06-.94-2.06-.94-.94-2.06-.94 2.06-2.06.94zm-11 1L8.5 8.5l.94-2.06 2.06-.94-2.06-.94L8.5 2.5l-.94 2.06-2.06.94zm10 10l.94 2.06.94-2.06 2.06-.94-2.06-.94-.94-2.06-.94 2.06-2.06.94z\"/><path d=\"M17.41 7.96l-1.37-1.37c-.4-.4-.92-.59-1.43-.59-.52 0-1.04.2-1.43.59L10.3 9.45l-7.72 7.72c-.78.78-.78 2.05 0 2.83L4 21.41c.39.39.9.59 1.41.59.51 0 1.02-.2 1.41-.59l7.78-7.78 2.81-2.81c.8-.78.8-2.07 0-2.86zM5.41 20L4 18.59l7.72-7.72 1.47 1.35L5.41 20z\"/>\n",
              "  </svg>\n",
              "      </button>\n",
              "      \n",
              "  <style>\n",
              "    .colab-df-container {\n",
              "      display:flex;\n",
              "      flex-wrap:wrap;\n",
              "      gap: 12px;\n",
              "    }\n",
              "\n",
              "    .colab-df-convert {\n",
              "      background-color: #E8F0FE;\n",
              "      border: none;\n",
              "      border-radius: 50%;\n",
              "      cursor: pointer;\n",
              "      display: none;\n",
              "      fill: #1967D2;\n",
              "      height: 32px;\n",
              "      padding: 0 0 0 0;\n",
              "      width: 32px;\n",
              "    }\n",
              "\n",
              "    .colab-df-convert:hover {\n",
              "      background-color: #E2EBFA;\n",
              "      box-shadow: 0px 1px 2px rgba(60, 64, 67, 0.3), 0px 1px 3px 1px rgba(60, 64, 67, 0.15);\n",
              "      fill: #174EA6;\n",
              "    }\n",
              "\n",
              "    [theme=dark] .colab-df-convert {\n",
              "      background-color: #3B4455;\n",
              "      fill: #D2E3FC;\n",
              "    }\n",
              "\n",
              "    [theme=dark] .colab-df-convert:hover {\n",
              "      background-color: #434B5C;\n",
              "      box-shadow: 0px 1px 3px 1px rgba(0, 0, 0, 0.15);\n",
              "      filter: drop-shadow(0px 1px 2px rgba(0, 0, 0, 0.3));\n",
              "      fill: #FFFFFF;\n",
              "    }\n",
              "  </style>\n",
              "\n",
              "      <script>\n",
              "        const buttonEl =\n",
              "          document.querySelector('#df-5ac3cad5-7bdf-4cc4-88ba-4599907c4174 button.colab-df-convert');\n",
              "        buttonEl.style.display =\n",
              "          google.colab.kernel.accessAllowed ? 'block' : 'none';\n",
              "\n",
              "        async function convertToInteractive(key) {\n",
              "          const element = document.querySelector('#df-5ac3cad5-7bdf-4cc4-88ba-4599907c4174');\n",
              "          const dataTable =\n",
              "            await google.colab.kernel.invokeFunction('convertToInteractive',\n",
              "                                                     [key], {});\n",
              "          if (!dataTable) return;\n",
              "\n",
              "          const docLinkHtml = 'Like what you see? Visit the ' +\n",
              "            '<a target=\"_blank\" href=https://colab.research.google.com/notebooks/data_table.ipynb>data table notebook</a>'\n",
              "            + ' to learn more about interactive tables.';\n",
              "          element.innerHTML = '';\n",
              "          dataTable['output_type'] = 'display_data';\n",
              "          await google.colab.output.renderOutput(dataTable, element);\n",
              "          const docLink = document.createElement('div');\n",
              "          docLink.innerHTML = docLinkHtml;\n",
              "          element.appendChild(docLink);\n",
              "        }\n",
              "      </script>\n",
              "    </div>\n",
              "  </div>\n",
              "  "
            ]
          },
          "metadata": {},
          "execution_count": 3
        }
      ]
    },
    {
      "cell_type": "code",
      "source": [
        "# df.corr().to_excel(\"/content/drive/MyDrive/DEV F. - Proyectos/PROYECTS/Cobertura médica en los hogares mexicanos/df_corr.xlsx\")"
      ],
      "metadata": {
        "id": "zCvvUcAa6vxF"
      },
      "execution_count": null,
      "outputs": []
    },
    {
      "cell_type": "markdown",
      "source": [
        "#### Celdas correlacionadas en al menos un 0.8% con otras:\n",
        "\n",
        "* sinco\n",
        "* alfabe_si\n",
        "* hor_1\n",
        "* tot_resid\n",
        "* tot_hom\n",
        "* tot_muj\n",
        "* prob_sal_si\n",
        "* autocons\n"
      ],
      "metadata": {
        "id": "IAmI845R_sBp"
      }
    },
    {
      "cell_type": "code",
      "source": [
        "# Eliminando columnas correlacionadas\n",
        "columnasdf = ['sinco', 'alfabe_si', 'hor_1', 'tot_resid', 'tot_hom', 'tot_muj', 'prob_sal_si', 'autocons']\n",
        "df2 = df.drop(columnasdf, axis=1)\n",
        "df2 = df2.set_index(df[\"folioviv\"])\n",
        "df2 = df2.drop(\"folioviv\", axis=1)\n",
        "print(df2.shape)\n",
        "df2.head()"
      ],
      "metadata": {
        "colab": {
          "base_uri": "https://localhost:8080/",
          "height": 284
        },
        "id": "aECSNNWUClBm",
        "outputId": "6e32d242-3ad9-40e3-f5cf-6d6a7701a295"
      },
      "execution_count": null,
      "outputs": [
        {
          "output_type": "stream",
          "name": "stdout",
          "text": [
            "(79274, 104)\n"
          ]
        },
        {
          "output_type": "execute_result",
          "data": {
            "text/plain": [
              "           numrentrab  htrab  scian  medtrab_7   ing_tri  gasto_tri  \\\n",
              "folioviv                                                              \n",
              "100013605           1     30      1          0  16229.49   22693.22   \n",
              "100013606           1     48      1          0  23827.86   18931.42   \n",
              "100017801           2     70      2          0  37421.77   44520.13   \n",
              "100017802           1     40      1          0  71557.37   76500.43   \n",
              "100017803           1     40      1          0  71803.26   30140.68   \n",
              "\n",
              "           numrenpob       edad  nivelaprob  hor_2  ...  num_radio  num_refri  \\\n",
              "folioviv                                            ...                         \n",
              "100013605          3  26.333333    4.666667     71  ...          0          1   \n",
              "100013606          4  29.250000    4.000000     49  ...          1          1   \n",
              "100017801          2  26.000000    7.000000     20  ...          0          1   \n",
              "100017802          2  18.000000    4.000000     60  ...          0          1   \n",
              "100017803          2  61.000000    4.500000    100  ...          0          1   \n",
              "\n",
              "           num_tosta  num_tva  num_tvd  num_van  num_venti  num_video  \\\n",
              "folioviv                                                                \n",
              "100013605          0        0        0        0          1          0   \n",
              "100013606          0        0        2        0          0          0   \n",
              "100017801          1        0        2        0          1          0   \n",
              "100017802          1        0        1        0          4          0   \n",
              "100017803          0        0        3        0          2          0   \n",
              "\n",
              "           tsalud1_h  tv_paga  \n",
              "folioviv                       \n",
              "100013605          0        2  \n",
              "100013606          0        2  \n",
              "100017801          0        2  \n",
              "100017802          0        1  \n",
              "100017803          0        1  \n",
              "\n",
              "[5 rows x 104 columns]"
            ],
            "text/html": [
              "\n",
              "  <div id=\"df-de63a018-509a-41bd-be06-f4b66af52653\">\n",
              "    <div class=\"colab-df-container\">\n",
              "      <div>\n",
              "<style scoped>\n",
              "    .dataframe tbody tr th:only-of-type {\n",
              "        vertical-align: middle;\n",
              "    }\n",
              "\n",
              "    .dataframe tbody tr th {\n",
              "        vertical-align: top;\n",
              "    }\n",
              "\n",
              "    .dataframe thead th {\n",
              "        text-align: right;\n",
              "    }\n",
              "</style>\n",
              "<table border=\"1\" class=\"dataframe\">\n",
              "  <thead>\n",
              "    <tr style=\"text-align: right;\">\n",
              "      <th></th>\n",
              "      <th>numrentrab</th>\n",
              "      <th>htrab</th>\n",
              "      <th>scian</th>\n",
              "      <th>medtrab_7</th>\n",
              "      <th>ing_tri</th>\n",
              "      <th>gasto_tri</th>\n",
              "      <th>numrenpob</th>\n",
              "      <th>edad</th>\n",
              "      <th>nivelaprob</th>\n",
              "      <th>hor_2</th>\n",
              "      <th>...</th>\n",
              "      <th>num_radio</th>\n",
              "      <th>num_refri</th>\n",
              "      <th>num_tosta</th>\n",
              "      <th>num_tva</th>\n",
              "      <th>num_tvd</th>\n",
              "      <th>num_van</th>\n",
              "      <th>num_venti</th>\n",
              "      <th>num_video</th>\n",
              "      <th>tsalud1_h</th>\n",
              "      <th>tv_paga</th>\n",
              "    </tr>\n",
              "    <tr>\n",
              "      <th>folioviv</th>\n",
              "      <th></th>\n",
              "      <th></th>\n",
              "      <th></th>\n",
              "      <th></th>\n",
              "      <th></th>\n",
              "      <th></th>\n",
              "      <th></th>\n",
              "      <th></th>\n",
              "      <th></th>\n",
              "      <th></th>\n",
              "      <th></th>\n",
              "      <th></th>\n",
              "      <th></th>\n",
              "      <th></th>\n",
              "      <th></th>\n",
              "      <th></th>\n",
              "      <th></th>\n",
              "      <th></th>\n",
              "      <th></th>\n",
              "      <th></th>\n",
              "      <th></th>\n",
              "    </tr>\n",
              "  </thead>\n",
              "  <tbody>\n",
              "    <tr>\n",
              "      <th>100013605</th>\n",
              "      <td>1</td>\n",
              "      <td>30</td>\n",
              "      <td>1</td>\n",
              "      <td>0</td>\n",
              "      <td>16229.49</td>\n",
              "      <td>22693.22</td>\n",
              "      <td>3</td>\n",
              "      <td>26.333333</td>\n",
              "      <td>4.666667</td>\n",
              "      <td>71</td>\n",
              "      <td>...</td>\n",
              "      <td>0</td>\n",
              "      <td>1</td>\n",
              "      <td>0</td>\n",
              "      <td>0</td>\n",
              "      <td>0</td>\n",
              "      <td>0</td>\n",
              "      <td>1</td>\n",
              "      <td>0</td>\n",
              "      <td>0</td>\n",
              "      <td>2</td>\n",
              "    </tr>\n",
              "    <tr>\n",
              "      <th>100013606</th>\n",
              "      <td>1</td>\n",
              "      <td>48</td>\n",
              "      <td>1</td>\n",
              "      <td>0</td>\n",
              "      <td>23827.86</td>\n",
              "      <td>18931.42</td>\n",
              "      <td>4</td>\n",
              "      <td>29.250000</td>\n",
              "      <td>4.000000</td>\n",
              "      <td>49</td>\n",
              "      <td>...</td>\n",
              "      <td>1</td>\n",
              "      <td>1</td>\n",
              "      <td>0</td>\n",
              "      <td>0</td>\n",
              "      <td>2</td>\n",
              "      <td>0</td>\n",
              "      <td>0</td>\n",
              "      <td>0</td>\n",
              "      <td>0</td>\n",
              "      <td>2</td>\n",
              "    </tr>\n",
              "    <tr>\n",
              "      <th>100017801</th>\n",
              "      <td>2</td>\n",
              "      <td>70</td>\n",
              "      <td>2</td>\n",
              "      <td>0</td>\n",
              "      <td>37421.77</td>\n",
              "      <td>44520.13</td>\n",
              "      <td>2</td>\n",
              "      <td>26.000000</td>\n",
              "      <td>7.000000</td>\n",
              "      <td>20</td>\n",
              "      <td>...</td>\n",
              "      <td>0</td>\n",
              "      <td>1</td>\n",
              "      <td>1</td>\n",
              "      <td>0</td>\n",
              "      <td>2</td>\n",
              "      <td>0</td>\n",
              "      <td>1</td>\n",
              "      <td>0</td>\n",
              "      <td>0</td>\n",
              "      <td>2</td>\n",
              "    </tr>\n",
              "    <tr>\n",
              "      <th>100017802</th>\n",
              "      <td>1</td>\n",
              "      <td>40</td>\n",
              "      <td>1</td>\n",
              "      <td>0</td>\n",
              "      <td>71557.37</td>\n",
              "      <td>76500.43</td>\n",
              "      <td>2</td>\n",
              "      <td>18.000000</td>\n",
              "      <td>4.000000</td>\n",
              "      <td>60</td>\n",
              "      <td>...</td>\n",
              "      <td>0</td>\n",
              "      <td>1</td>\n",
              "      <td>1</td>\n",
              "      <td>0</td>\n",
              "      <td>1</td>\n",
              "      <td>0</td>\n",
              "      <td>4</td>\n",
              "      <td>0</td>\n",
              "      <td>0</td>\n",
              "      <td>1</td>\n",
              "    </tr>\n",
              "    <tr>\n",
              "      <th>100017803</th>\n",
              "      <td>1</td>\n",
              "      <td>40</td>\n",
              "      <td>1</td>\n",
              "      <td>0</td>\n",
              "      <td>71803.26</td>\n",
              "      <td>30140.68</td>\n",
              "      <td>2</td>\n",
              "      <td>61.000000</td>\n",
              "      <td>4.500000</td>\n",
              "      <td>100</td>\n",
              "      <td>...</td>\n",
              "      <td>0</td>\n",
              "      <td>1</td>\n",
              "      <td>0</td>\n",
              "      <td>0</td>\n",
              "      <td>3</td>\n",
              "      <td>0</td>\n",
              "      <td>2</td>\n",
              "      <td>0</td>\n",
              "      <td>0</td>\n",
              "      <td>1</td>\n",
              "    </tr>\n",
              "  </tbody>\n",
              "</table>\n",
              "<p>5 rows × 104 columns</p>\n",
              "</div>\n",
              "      <button class=\"colab-df-convert\" onclick=\"convertToInteractive('df-de63a018-509a-41bd-be06-f4b66af52653')\"\n",
              "              title=\"Convert this dataframe to an interactive table.\"\n",
              "              style=\"display:none;\">\n",
              "        \n",
              "  <svg xmlns=\"http://www.w3.org/2000/svg\" height=\"24px\"viewBox=\"0 0 24 24\"\n",
              "       width=\"24px\">\n",
              "    <path d=\"M0 0h24v24H0V0z\" fill=\"none\"/>\n",
              "    <path d=\"M18.56 5.44l.94 2.06.94-2.06 2.06-.94-2.06-.94-.94-2.06-.94 2.06-2.06.94zm-11 1L8.5 8.5l.94-2.06 2.06-.94-2.06-.94L8.5 2.5l-.94 2.06-2.06.94zm10 10l.94 2.06.94-2.06 2.06-.94-2.06-.94-.94-2.06-.94 2.06-2.06.94z\"/><path d=\"M17.41 7.96l-1.37-1.37c-.4-.4-.92-.59-1.43-.59-.52 0-1.04.2-1.43.59L10.3 9.45l-7.72 7.72c-.78.78-.78 2.05 0 2.83L4 21.41c.39.39.9.59 1.41.59.51 0 1.02-.2 1.41-.59l7.78-7.78 2.81-2.81c.8-.78.8-2.07 0-2.86zM5.41 20L4 18.59l7.72-7.72 1.47 1.35L5.41 20z\"/>\n",
              "  </svg>\n",
              "      </button>\n",
              "      \n",
              "  <style>\n",
              "    .colab-df-container {\n",
              "      display:flex;\n",
              "      flex-wrap:wrap;\n",
              "      gap: 12px;\n",
              "    }\n",
              "\n",
              "    .colab-df-convert {\n",
              "      background-color: #E8F0FE;\n",
              "      border: none;\n",
              "      border-radius: 50%;\n",
              "      cursor: pointer;\n",
              "      display: none;\n",
              "      fill: #1967D2;\n",
              "      height: 32px;\n",
              "      padding: 0 0 0 0;\n",
              "      width: 32px;\n",
              "    }\n",
              "\n",
              "    .colab-df-convert:hover {\n",
              "      background-color: #E2EBFA;\n",
              "      box-shadow: 0px 1px 2px rgba(60, 64, 67, 0.3), 0px 1px 3px 1px rgba(60, 64, 67, 0.15);\n",
              "      fill: #174EA6;\n",
              "    }\n",
              "\n",
              "    [theme=dark] .colab-df-convert {\n",
              "      background-color: #3B4455;\n",
              "      fill: #D2E3FC;\n",
              "    }\n",
              "\n",
              "    [theme=dark] .colab-df-convert:hover {\n",
              "      background-color: #434B5C;\n",
              "      box-shadow: 0px 1px 3px 1px rgba(0, 0, 0, 0.15);\n",
              "      filter: drop-shadow(0px 1px 2px rgba(0, 0, 0, 0.3));\n",
              "      fill: #FFFFFF;\n",
              "    }\n",
              "  </style>\n",
              "\n",
              "      <script>\n",
              "        const buttonEl =\n",
              "          document.querySelector('#df-de63a018-509a-41bd-be06-f4b66af52653 button.colab-df-convert');\n",
              "        buttonEl.style.display =\n",
              "          google.colab.kernel.accessAllowed ? 'block' : 'none';\n",
              "\n",
              "        async function convertToInteractive(key) {\n",
              "          const element = document.querySelector('#df-de63a018-509a-41bd-be06-f4b66af52653');\n",
              "          const dataTable =\n",
              "            await google.colab.kernel.invokeFunction('convertToInteractive',\n",
              "                                                     [key], {});\n",
              "          if (!dataTable) return;\n",
              "\n",
              "          const docLinkHtml = 'Like what you see? Visit the ' +\n",
              "            '<a target=\"_blank\" href=https://colab.research.google.com/notebooks/data_table.ipynb>data table notebook</a>'\n",
              "            + ' to learn more about interactive tables.';\n",
              "          element.innerHTML = '';\n",
              "          dataTable['output_type'] = 'display_data';\n",
              "          await google.colab.output.renderOutput(dataTable, element);\n",
              "          const docLink = document.createElement('div');\n",
              "          docLink.innerHTML = docLinkHtml;\n",
              "          element.appendChild(docLink);\n",
              "        }\n",
              "      </script>\n",
              "    </div>\n",
              "  </div>\n",
              "  "
            ]
          },
          "metadata": {},
          "execution_count": 5
        }
      ]
    },
    {
      "cell_type": "markdown",
      "source": [
        "#### Segmentando df en un dataset de variables dummy y un conjunto de variables restante"
      ],
      "metadata": {
        "id": "ws3hXXZVEuni"
      }
    },
    {
      "cell_type": "code",
      "source": [
        "def es_dummy(col):\n",
        "    return set(col) <= {0, 1}\n",
        "\n",
        "dummy_cols = df2.apply(es_dummy)\n",
        "dummy_cols = dummy_cols[dummy_cols].index.tolist()\n",
        "print(len(dummy_cols))\n"
      ],
      "metadata": {
        "colab": {
          "base_uri": "https://localhost:8080/"
        },
        "id": "A_3ProRZE1dX",
        "outputId": "ad5341c4-24a9-46f1-8697-e6fb19a97f44"
      },
      "execution_count": null,
      "outputs": [
        {
          "output_type": "stream",
          "name": "stdout",
          "text": [
            "24\n"
          ]
        }
      ]
    },
    {
      "cell_type": "code",
      "source": [
        "# Creando los dataframes df_dummies y df_no_dummies\n",
        "df_dummies = df2[dummy_cols]\n",
        "df_no_dummies = df2.drop(dummy_cols, axis=1)\n",
        "print(\"df_dummies:\", df_dummies.shape)\n",
        "print(\"df_no_dummies:\", df_no_dummies.shape)"
      ],
      "metadata": {
        "colab": {
          "base_uri": "https://localhost:8080/"
        },
        "id": "9qztQb1OFD0O",
        "outputId": "80194b7c-9019-4531-ba73-fc3883d6647f"
      },
      "execution_count": null,
      "outputs": [
        {
          "output_type": "stream",
          "name": "stdout",
          "text": [
            "df_dummies: (79274, 24)\n",
            "df_no_dummies: (79274, 80)\n"
          ]
        }
      ]
    },
    {
      "cell_type": "markdown",
      "source": [
        "## Preprocesamiento"
      ],
      "metadata": {
        "id": "kYblhWQQ6z9J"
      }
    },
    {
      "cell_type": "code",
      "source": [
        "# Estandarizando los valores no dummies\n",
        "from sklearn.preprocessing import StandardScaler\n",
        "\n",
        "scaler = StandardScaler()\n",
        "df_std = pd.DataFrame(scaler.fit_transform(df_no_dummies), columns=df_no_dummies.columns)\n",
        "df_std = df_std.set_axis(df[\"folioviv\"])\n",
        "print(df_std.shape)\n",
        "df_std.head()"
      ],
      "metadata": {
        "colab": {
          "base_uri": "https://localhost:8080/",
          "height": 284
        },
        "id": "MDrk2QsOIH_y",
        "outputId": "02be6839-efa6-402c-9f6b-69d0e55e491b"
      },
      "execution_count": null,
      "outputs": [
        {
          "output_type": "stream",
          "name": "stdout",
          "text": [
            "(79274, 80)\n"
          ]
        },
        {
          "output_type": "execute_result",
          "data": {
            "text/plain": [
              "           numrentrab     htrab    scian  medtrab_7   ing_tri  gasto_tri  \\\n",
              "folioviv                                                                   \n",
              "100013605   -0.883482 -1.032151 -0.83522  -0.800459 -0.378376  -0.220483   \n",
              "100013606   -0.883482 -0.692175 -0.83522  -0.800459 -0.277603  -0.373333   \n",
              "100017801    0.092850 -0.276650  0.24437  -0.800459 -0.097314   0.666386   \n",
              "100017802   -0.883482 -0.843276 -0.83522  -0.800459  0.355407   1.965808   \n",
              "100017803   -0.883482 -0.843276 -0.83522  -0.800459  0.358668   0.082121   \n",
              "\n",
              "           numrenpob      edad  nivelaprob     hor_2  ...  num_radio  \\\n",
              "folioviv                                              ...              \n",
              "100013605  -0.423985 -0.580175    0.956368 -0.328814  ...  -0.481882   \n",
              "100013606   0.136824 -0.387802    0.493889 -0.734945  ...   1.780656   \n",
              "100017801  -0.984794 -0.602161    2.575044 -1.270301  ...  -0.481882   \n",
              "100017802  -0.984794 -1.129812    0.493889 -0.531879  ...  -0.481882   \n",
              "100017803  -0.984794  1.706315    0.840748  0.206542  ...  -0.481882   \n",
              "\n",
              "           num_refri  num_tosta   num_tva   num_tvd   num_van  num_venti  \\\n",
              "folioviv                                                                   \n",
              "100013605   0.278587  -0.377113 -0.555725 -1.217144 -0.373595   0.009728   \n",
              "100013606   0.278587  -0.377113 -0.555725  1.023477 -0.373595  -0.848122   \n",
              "100017801   0.278587   2.590453 -0.555725  1.023477 -0.373595   0.009728   \n",
              "100017802   0.278587   2.590453 -0.555725 -0.096833 -0.373595   2.583280   \n",
              "100017803   0.278587  -0.377113 -0.555725  2.143787 -0.373595   0.867579   \n",
              "\n",
              "           num_video  tsalud1_h   tv_paga  \n",
              "folioviv                                   \n",
              "100013605  -0.156948  -0.297659  0.895115  \n",
              "100013606  -0.156948  -0.297659  0.895115  \n",
              "100017801  -0.156948  -0.297659  0.895115  \n",
              "100017802  -0.156948  -0.297659 -1.117174  \n",
              "100017803  -0.156948  -0.297659 -1.117174  \n",
              "\n",
              "[5 rows x 80 columns]"
            ],
            "text/html": [
              "\n",
              "  <div id=\"df-0624ff42-a507-4dda-bf8c-5b70b1c5ef49\">\n",
              "    <div class=\"colab-df-container\">\n",
              "      <div>\n",
              "<style scoped>\n",
              "    .dataframe tbody tr th:only-of-type {\n",
              "        vertical-align: middle;\n",
              "    }\n",
              "\n",
              "    .dataframe tbody tr th {\n",
              "        vertical-align: top;\n",
              "    }\n",
              "\n",
              "    .dataframe thead th {\n",
              "        text-align: right;\n",
              "    }\n",
              "</style>\n",
              "<table border=\"1\" class=\"dataframe\">\n",
              "  <thead>\n",
              "    <tr style=\"text-align: right;\">\n",
              "      <th></th>\n",
              "      <th>numrentrab</th>\n",
              "      <th>htrab</th>\n",
              "      <th>scian</th>\n",
              "      <th>medtrab_7</th>\n",
              "      <th>ing_tri</th>\n",
              "      <th>gasto_tri</th>\n",
              "      <th>numrenpob</th>\n",
              "      <th>edad</th>\n",
              "      <th>nivelaprob</th>\n",
              "      <th>hor_2</th>\n",
              "      <th>...</th>\n",
              "      <th>num_radio</th>\n",
              "      <th>num_refri</th>\n",
              "      <th>num_tosta</th>\n",
              "      <th>num_tva</th>\n",
              "      <th>num_tvd</th>\n",
              "      <th>num_van</th>\n",
              "      <th>num_venti</th>\n",
              "      <th>num_video</th>\n",
              "      <th>tsalud1_h</th>\n",
              "      <th>tv_paga</th>\n",
              "    </tr>\n",
              "    <tr>\n",
              "      <th>folioviv</th>\n",
              "      <th></th>\n",
              "      <th></th>\n",
              "      <th></th>\n",
              "      <th></th>\n",
              "      <th></th>\n",
              "      <th></th>\n",
              "      <th></th>\n",
              "      <th></th>\n",
              "      <th></th>\n",
              "      <th></th>\n",
              "      <th></th>\n",
              "      <th></th>\n",
              "      <th></th>\n",
              "      <th></th>\n",
              "      <th></th>\n",
              "      <th></th>\n",
              "      <th></th>\n",
              "      <th></th>\n",
              "      <th></th>\n",
              "      <th></th>\n",
              "      <th></th>\n",
              "    </tr>\n",
              "  </thead>\n",
              "  <tbody>\n",
              "    <tr>\n",
              "      <th>100013605</th>\n",
              "      <td>-0.883482</td>\n",
              "      <td>-1.032151</td>\n",
              "      <td>-0.83522</td>\n",
              "      <td>-0.800459</td>\n",
              "      <td>-0.378376</td>\n",
              "      <td>-0.220483</td>\n",
              "      <td>-0.423985</td>\n",
              "      <td>-0.580175</td>\n",
              "      <td>0.956368</td>\n",
              "      <td>-0.328814</td>\n",
              "      <td>...</td>\n",
              "      <td>-0.481882</td>\n",
              "      <td>0.278587</td>\n",
              "      <td>-0.377113</td>\n",
              "      <td>-0.555725</td>\n",
              "      <td>-1.217144</td>\n",
              "      <td>-0.373595</td>\n",
              "      <td>0.009728</td>\n",
              "      <td>-0.156948</td>\n",
              "      <td>-0.297659</td>\n",
              "      <td>0.895115</td>\n",
              "    </tr>\n",
              "    <tr>\n",
              "      <th>100013606</th>\n",
              "      <td>-0.883482</td>\n",
              "      <td>-0.692175</td>\n",
              "      <td>-0.83522</td>\n",
              "      <td>-0.800459</td>\n",
              "      <td>-0.277603</td>\n",
              "      <td>-0.373333</td>\n",
              "      <td>0.136824</td>\n",
              "      <td>-0.387802</td>\n",
              "      <td>0.493889</td>\n",
              "      <td>-0.734945</td>\n",
              "      <td>...</td>\n",
              "      <td>1.780656</td>\n",
              "      <td>0.278587</td>\n",
              "      <td>-0.377113</td>\n",
              "      <td>-0.555725</td>\n",
              "      <td>1.023477</td>\n",
              "      <td>-0.373595</td>\n",
              "      <td>-0.848122</td>\n",
              "      <td>-0.156948</td>\n",
              "      <td>-0.297659</td>\n",
              "      <td>0.895115</td>\n",
              "    </tr>\n",
              "    <tr>\n",
              "      <th>100017801</th>\n",
              "      <td>0.092850</td>\n",
              "      <td>-0.276650</td>\n",
              "      <td>0.24437</td>\n",
              "      <td>-0.800459</td>\n",
              "      <td>-0.097314</td>\n",
              "      <td>0.666386</td>\n",
              "      <td>-0.984794</td>\n",
              "      <td>-0.602161</td>\n",
              "      <td>2.575044</td>\n",
              "      <td>-1.270301</td>\n",
              "      <td>...</td>\n",
              "      <td>-0.481882</td>\n",
              "      <td>0.278587</td>\n",
              "      <td>2.590453</td>\n",
              "      <td>-0.555725</td>\n",
              "      <td>1.023477</td>\n",
              "      <td>-0.373595</td>\n",
              "      <td>0.009728</td>\n",
              "      <td>-0.156948</td>\n",
              "      <td>-0.297659</td>\n",
              "      <td>0.895115</td>\n",
              "    </tr>\n",
              "    <tr>\n",
              "      <th>100017802</th>\n",
              "      <td>-0.883482</td>\n",
              "      <td>-0.843276</td>\n",
              "      <td>-0.83522</td>\n",
              "      <td>-0.800459</td>\n",
              "      <td>0.355407</td>\n",
              "      <td>1.965808</td>\n",
              "      <td>-0.984794</td>\n",
              "      <td>-1.129812</td>\n",
              "      <td>0.493889</td>\n",
              "      <td>-0.531879</td>\n",
              "      <td>...</td>\n",
              "      <td>-0.481882</td>\n",
              "      <td>0.278587</td>\n",
              "      <td>2.590453</td>\n",
              "      <td>-0.555725</td>\n",
              "      <td>-0.096833</td>\n",
              "      <td>-0.373595</td>\n",
              "      <td>2.583280</td>\n",
              "      <td>-0.156948</td>\n",
              "      <td>-0.297659</td>\n",
              "      <td>-1.117174</td>\n",
              "    </tr>\n",
              "    <tr>\n",
              "      <th>100017803</th>\n",
              "      <td>-0.883482</td>\n",
              "      <td>-0.843276</td>\n",
              "      <td>-0.83522</td>\n",
              "      <td>-0.800459</td>\n",
              "      <td>0.358668</td>\n",
              "      <td>0.082121</td>\n",
              "      <td>-0.984794</td>\n",
              "      <td>1.706315</td>\n",
              "      <td>0.840748</td>\n",
              "      <td>0.206542</td>\n",
              "      <td>...</td>\n",
              "      <td>-0.481882</td>\n",
              "      <td>0.278587</td>\n",
              "      <td>-0.377113</td>\n",
              "      <td>-0.555725</td>\n",
              "      <td>2.143787</td>\n",
              "      <td>-0.373595</td>\n",
              "      <td>0.867579</td>\n",
              "      <td>-0.156948</td>\n",
              "      <td>-0.297659</td>\n",
              "      <td>-1.117174</td>\n",
              "    </tr>\n",
              "  </tbody>\n",
              "</table>\n",
              "<p>5 rows × 80 columns</p>\n",
              "</div>\n",
              "      <button class=\"colab-df-convert\" onclick=\"convertToInteractive('df-0624ff42-a507-4dda-bf8c-5b70b1c5ef49')\"\n",
              "              title=\"Convert this dataframe to an interactive table.\"\n",
              "              style=\"display:none;\">\n",
              "        \n",
              "  <svg xmlns=\"http://www.w3.org/2000/svg\" height=\"24px\"viewBox=\"0 0 24 24\"\n",
              "       width=\"24px\">\n",
              "    <path d=\"M0 0h24v24H0V0z\" fill=\"none\"/>\n",
              "    <path d=\"M18.56 5.44l.94 2.06.94-2.06 2.06-.94-2.06-.94-.94-2.06-.94 2.06-2.06.94zm-11 1L8.5 8.5l.94-2.06 2.06-.94-2.06-.94L8.5 2.5l-.94 2.06-2.06.94zm10 10l.94 2.06.94-2.06 2.06-.94-2.06-.94-.94-2.06-.94 2.06-2.06.94z\"/><path d=\"M17.41 7.96l-1.37-1.37c-.4-.4-.92-.59-1.43-.59-.52 0-1.04.2-1.43.59L10.3 9.45l-7.72 7.72c-.78.78-.78 2.05 0 2.83L4 21.41c.39.39.9.59 1.41.59.51 0 1.02-.2 1.41-.59l7.78-7.78 2.81-2.81c.8-.78.8-2.07 0-2.86zM5.41 20L4 18.59l7.72-7.72 1.47 1.35L5.41 20z\"/>\n",
              "  </svg>\n",
              "      </button>\n",
              "      \n",
              "  <style>\n",
              "    .colab-df-container {\n",
              "      display:flex;\n",
              "      flex-wrap:wrap;\n",
              "      gap: 12px;\n",
              "    }\n",
              "\n",
              "    .colab-df-convert {\n",
              "      background-color: #E8F0FE;\n",
              "      border: none;\n",
              "      border-radius: 50%;\n",
              "      cursor: pointer;\n",
              "      display: none;\n",
              "      fill: #1967D2;\n",
              "      height: 32px;\n",
              "      padding: 0 0 0 0;\n",
              "      width: 32px;\n",
              "    }\n",
              "\n",
              "    .colab-df-convert:hover {\n",
              "      background-color: #E2EBFA;\n",
              "      box-shadow: 0px 1px 2px rgba(60, 64, 67, 0.3), 0px 1px 3px 1px rgba(60, 64, 67, 0.15);\n",
              "      fill: #174EA6;\n",
              "    }\n",
              "\n",
              "    [theme=dark] .colab-df-convert {\n",
              "      background-color: #3B4455;\n",
              "      fill: #D2E3FC;\n",
              "    }\n",
              "\n",
              "    [theme=dark] .colab-df-convert:hover {\n",
              "      background-color: #434B5C;\n",
              "      box-shadow: 0px 1px 3px 1px rgba(0, 0, 0, 0.15);\n",
              "      filter: drop-shadow(0px 1px 2px rgba(0, 0, 0, 0.3));\n",
              "      fill: #FFFFFF;\n",
              "    }\n",
              "  </style>\n",
              "\n",
              "      <script>\n",
              "        const buttonEl =\n",
              "          document.querySelector('#df-0624ff42-a507-4dda-bf8c-5b70b1c5ef49 button.colab-df-convert');\n",
              "        buttonEl.style.display =\n",
              "          google.colab.kernel.accessAllowed ? 'block' : 'none';\n",
              "\n",
              "        async function convertToInteractive(key) {\n",
              "          const element = document.querySelector('#df-0624ff42-a507-4dda-bf8c-5b70b1c5ef49');\n",
              "          const dataTable =\n",
              "            await google.colab.kernel.invokeFunction('convertToInteractive',\n",
              "                                                     [key], {});\n",
              "          if (!dataTable) return;\n",
              "\n",
              "          const docLinkHtml = 'Like what you see? Visit the ' +\n",
              "            '<a target=\"_blank\" href=https://colab.research.google.com/notebooks/data_table.ipynb>data table notebook</a>'\n",
              "            + ' to learn more about interactive tables.';\n",
              "          element.innerHTML = '';\n",
              "          dataTable['output_type'] = 'display_data';\n",
              "          await google.colab.output.renderOutput(dataTable, element);\n",
              "          const docLink = document.createElement('div');\n",
              "          docLink.innerHTML = docLinkHtml;\n",
              "          element.appendChild(docLink);\n",
              "        }\n",
              "      </script>\n",
              "    </div>\n",
              "  </div>\n",
              "  "
            ]
          },
          "metadata": {},
          "execution_count": 8
        }
      ]
    },
    {
      "cell_type": "code",
      "source": [
        "# Haciendo merge de df_std a df_dummies\n",
        "df3 = df_dummies.reset_index(drop=True).join(df_std.reset_index(drop=True), how='left')\n",
        "print(df3.shape)\n",
        "df3.head()"
      ],
      "metadata": {
        "colab": {
          "base_uri": "https://localhost:8080/",
          "height": 253
        },
        "id": "BRU-2FCrMUJK",
        "outputId": "716aa44a-0f38-49b5-b6b0-3e6bbb4fa0ee"
      },
      "execution_count": null,
      "outputs": [
        {
          "output_type": "stream",
          "name": "stdout",
          "text": [
            "(79274, 104)\n"
          ]
        },
        {
          "output_type": "execute_result",
          "data": {
            "text/plain": [
              "   cocina  excusado  uso_compar  lavadero  fregadero  tinaco_azo  cisterna  \\\n",
              "0       1         1           0         1          1           1         1   \n",
              "1       1         1           0         1          1           1         1   \n",
              "2       1         1           0         1          1           1         1   \n",
              "3       1         1           0         1          1           1         1   \n",
              "4       1         1           0         1          1           1         1   \n",
              "\n",
              "   pileta  calent_sol  calent_gas  ...  num_radio  num_refri  num_tosta  \\\n",
              "0       0           0           1  ...  -0.481882   0.278587  -0.377113   \n",
              "1       0           0           1  ...   1.780656   0.278587  -0.377113   \n",
              "2       1           0           1  ...  -0.481882   0.278587   2.590453   \n",
              "3       0           0           1  ...  -0.481882   0.278587   2.590453   \n",
              "4       0           0           1  ...  -0.481882   0.278587  -0.377113   \n",
              "\n",
              "    num_tva   num_tvd   num_van  num_venti  num_video  tsalud1_h   tv_paga  \n",
              "0 -0.555725 -1.217144 -0.373595   0.009728  -0.156948  -0.297659  0.895115  \n",
              "1 -0.555725  1.023477 -0.373595  -0.848122  -0.156948  -0.297659  0.895115  \n",
              "2 -0.555725  1.023477 -0.373595   0.009728  -0.156948  -0.297659  0.895115  \n",
              "3 -0.555725 -0.096833 -0.373595   2.583280  -0.156948  -0.297659 -1.117174  \n",
              "4 -0.555725  2.143787 -0.373595   0.867579  -0.156948  -0.297659 -1.117174  \n",
              "\n",
              "[5 rows x 104 columns]"
            ],
            "text/html": [
              "\n",
              "  <div id=\"df-a973aeea-18d7-405c-976d-c7dc677df425\">\n",
              "    <div class=\"colab-df-container\">\n",
              "      <div>\n",
              "<style scoped>\n",
              "    .dataframe tbody tr th:only-of-type {\n",
              "        vertical-align: middle;\n",
              "    }\n",
              "\n",
              "    .dataframe tbody tr th {\n",
              "        vertical-align: top;\n",
              "    }\n",
              "\n",
              "    .dataframe thead th {\n",
              "        text-align: right;\n",
              "    }\n",
              "</style>\n",
              "<table border=\"1\" class=\"dataframe\">\n",
              "  <thead>\n",
              "    <tr style=\"text-align: right;\">\n",
              "      <th></th>\n",
              "      <th>cocina</th>\n",
              "      <th>excusado</th>\n",
              "      <th>uso_compar</th>\n",
              "      <th>lavadero</th>\n",
              "      <th>fregadero</th>\n",
              "      <th>tinaco_azo</th>\n",
              "      <th>cisterna</th>\n",
              "      <th>pileta</th>\n",
              "      <th>calent_sol</th>\n",
              "      <th>calent_gas</th>\n",
              "      <th>...</th>\n",
              "      <th>num_radio</th>\n",
              "      <th>num_refri</th>\n",
              "      <th>num_tosta</th>\n",
              "      <th>num_tva</th>\n",
              "      <th>num_tvd</th>\n",
              "      <th>num_van</th>\n",
              "      <th>num_venti</th>\n",
              "      <th>num_video</th>\n",
              "      <th>tsalud1_h</th>\n",
              "      <th>tv_paga</th>\n",
              "    </tr>\n",
              "  </thead>\n",
              "  <tbody>\n",
              "    <tr>\n",
              "      <th>0</th>\n",
              "      <td>1</td>\n",
              "      <td>1</td>\n",
              "      <td>0</td>\n",
              "      <td>1</td>\n",
              "      <td>1</td>\n",
              "      <td>1</td>\n",
              "      <td>1</td>\n",
              "      <td>0</td>\n",
              "      <td>0</td>\n",
              "      <td>1</td>\n",
              "      <td>...</td>\n",
              "      <td>-0.481882</td>\n",
              "      <td>0.278587</td>\n",
              "      <td>-0.377113</td>\n",
              "      <td>-0.555725</td>\n",
              "      <td>-1.217144</td>\n",
              "      <td>-0.373595</td>\n",
              "      <td>0.009728</td>\n",
              "      <td>-0.156948</td>\n",
              "      <td>-0.297659</td>\n",
              "      <td>0.895115</td>\n",
              "    </tr>\n",
              "    <tr>\n",
              "      <th>1</th>\n",
              "      <td>1</td>\n",
              "      <td>1</td>\n",
              "      <td>0</td>\n",
              "      <td>1</td>\n",
              "      <td>1</td>\n",
              "      <td>1</td>\n",
              "      <td>1</td>\n",
              "      <td>0</td>\n",
              "      <td>0</td>\n",
              "      <td>1</td>\n",
              "      <td>...</td>\n",
              "      <td>1.780656</td>\n",
              "      <td>0.278587</td>\n",
              "      <td>-0.377113</td>\n",
              "      <td>-0.555725</td>\n",
              "      <td>1.023477</td>\n",
              "      <td>-0.373595</td>\n",
              "      <td>-0.848122</td>\n",
              "      <td>-0.156948</td>\n",
              "      <td>-0.297659</td>\n",
              "      <td>0.895115</td>\n",
              "    </tr>\n",
              "    <tr>\n",
              "      <th>2</th>\n",
              "      <td>1</td>\n",
              "      <td>1</td>\n",
              "      <td>0</td>\n",
              "      <td>1</td>\n",
              "      <td>1</td>\n",
              "      <td>1</td>\n",
              "      <td>1</td>\n",
              "      <td>1</td>\n",
              "      <td>0</td>\n",
              "      <td>1</td>\n",
              "      <td>...</td>\n",
              "      <td>-0.481882</td>\n",
              "      <td>0.278587</td>\n",
              "      <td>2.590453</td>\n",
              "      <td>-0.555725</td>\n",
              "      <td>1.023477</td>\n",
              "      <td>-0.373595</td>\n",
              "      <td>0.009728</td>\n",
              "      <td>-0.156948</td>\n",
              "      <td>-0.297659</td>\n",
              "      <td>0.895115</td>\n",
              "    </tr>\n",
              "    <tr>\n",
              "      <th>3</th>\n",
              "      <td>1</td>\n",
              "      <td>1</td>\n",
              "      <td>0</td>\n",
              "      <td>1</td>\n",
              "      <td>1</td>\n",
              "      <td>1</td>\n",
              "      <td>1</td>\n",
              "      <td>0</td>\n",
              "      <td>0</td>\n",
              "      <td>1</td>\n",
              "      <td>...</td>\n",
              "      <td>-0.481882</td>\n",
              "      <td>0.278587</td>\n",
              "      <td>2.590453</td>\n",
              "      <td>-0.555725</td>\n",
              "      <td>-0.096833</td>\n",
              "      <td>-0.373595</td>\n",
              "      <td>2.583280</td>\n",
              "      <td>-0.156948</td>\n",
              "      <td>-0.297659</td>\n",
              "      <td>-1.117174</td>\n",
              "    </tr>\n",
              "    <tr>\n",
              "      <th>4</th>\n",
              "      <td>1</td>\n",
              "      <td>1</td>\n",
              "      <td>0</td>\n",
              "      <td>1</td>\n",
              "      <td>1</td>\n",
              "      <td>1</td>\n",
              "      <td>1</td>\n",
              "      <td>0</td>\n",
              "      <td>0</td>\n",
              "      <td>1</td>\n",
              "      <td>...</td>\n",
              "      <td>-0.481882</td>\n",
              "      <td>0.278587</td>\n",
              "      <td>-0.377113</td>\n",
              "      <td>-0.555725</td>\n",
              "      <td>2.143787</td>\n",
              "      <td>-0.373595</td>\n",
              "      <td>0.867579</td>\n",
              "      <td>-0.156948</td>\n",
              "      <td>-0.297659</td>\n",
              "      <td>-1.117174</td>\n",
              "    </tr>\n",
              "  </tbody>\n",
              "</table>\n",
              "<p>5 rows × 104 columns</p>\n",
              "</div>\n",
              "      <button class=\"colab-df-convert\" onclick=\"convertToInteractive('df-a973aeea-18d7-405c-976d-c7dc677df425')\"\n",
              "              title=\"Convert this dataframe to an interactive table.\"\n",
              "              style=\"display:none;\">\n",
              "        \n",
              "  <svg xmlns=\"http://www.w3.org/2000/svg\" height=\"24px\"viewBox=\"0 0 24 24\"\n",
              "       width=\"24px\">\n",
              "    <path d=\"M0 0h24v24H0V0z\" fill=\"none\"/>\n",
              "    <path d=\"M18.56 5.44l.94 2.06.94-2.06 2.06-.94-2.06-.94-.94-2.06-.94 2.06-2.06.94zm-11 1L8.5 8.5l.94-2.06 2.06-.94-2.06-.94L8.5 2.5l-.94 2.06-2.06.94zm10 10l.94 2.06.94-2.06 2.06-.94-2.06-.94-.94-2.06-.94 2.06-2.06.94z\"/><path d=\"M17.41 7.96l-1.37-1.37c-.4-.4-.92-.59-1.43-.59-.52 0-1.04.2-1.43.59L10.3 9.45l-7.72 7.72c-.78.78-.78 2.05 0 2.83L4 21.41c.39.39.9.59 1.41.59.51 0 1.02-.2 1.41-.59l7.78-7.78 2.81-2.81c.8-.78.8-2.07 0-2.86zM5.41 20L4 18.59l7.72-7.72 1.47 1.35L5.41 20z\"/>\n",
              "  </svg>\n",
              "      </button>\n",
              "      \n",
              "  <style>\n",
              "    .colab-df-container {\n",
              "      display:flex;\n",
              "      flex-wrap:wrap;\n",
              "      gap: 12px;\n",
              "    }\n",
              "\n",
              "    .colab-df-convert {\n",
              "      background-color: #E8F0FE;\n",
              "      border: none;\n",
              "      border-radius: 50%;\n",
              "      cursor: pointer;\n",
              "      display: none;\n",
              "      fill: #1967D2;\n",
              "      height: 32px;\n",
              "      padding: 0 0 0 0;\n",
              "      width: 32px;\n",
              "    }\n",
              "\n",
              "    .colab-df-convert:hover {\n",
              "      background-color: #E2EBFA;\n",
              "      box-shadow: 0px 1px 2px rgba(60, 64, 67, 0.3), 0px 1px 3px 1px rgba(60, 64, 67, 0.15);\n",
              "      fill: #174EA6;\n",
              "    }\n",
              "\n",
              "    [theme=dark] .colab-df-convert {\n",
              "      background-color: #3B4455;\n",
              "      fill: #D2E3FC;\n",
              "    }\n",
              "\n",
              "    [theme=dark] .colab-df-convert:hover {\n",
              "      background-color: #434B5C;\n",
              "      box-shadow: 0px 1px 3px 1px rgba(0, 0, 0, 0.15);\n",
              "      filter: drop-shadow(0px 1px 2px rgba(0, 0, 0, 0.3));\n",
              "      fill: #FFFFFF;\n",
              "    }\n",
              "  </style>\n",
              "\n",
              "      <script>\n",
              "        const buttonEl =\n",
              "          document.querySelector('#df-a973aeea-18d7-405c-976d-c7dc677df425 button.colab-df-convert');\n",
              "        buttonEl.style.display =\n",
              "          google.colab.kernel.accessAllowed ? 'block' : 'none';\n",
              "\n",
              "        async function convertToInteractive(key) {\n",
              "          const element = document.querySelector('#df-a973aeea-18d7-405c-976d-c7dc677df425');\n",
              "          const dataTable =\n",
              "            await google.colab.kernel.invokeFunction('convertToInteractive',\n",
              "                                                     [key], {});\n",
              "          if (!dataTable) return;\n",
              "\n",
              "          const docLinkHtml = 'Like what you see? Visit the ' +\n",
              "            '<a target=\"_blank\" href=https://colab.research.google.com/notebooks/data_table.ipynb>data table notebook</a>'\n",
              "            + ' to learn more about interactive tables.';\n",
              "          element.innerHTML = '';\n",
              "          dataTable['output_type'] = 'display_data';\n",
              "          await google.colab.output.renderOutput(dataTable, element);\n",
              "          const docLink = document.createElement('div');\n",
              "          docLink.innerHTML = docLinkHtml;\n",
              "          element.appendChild(docLink);\n",
              "        }\n",
              "      </script>\n",
              "    </div>\n",
              "  </div>\n",
              "  "
            ]
          },
          "metadata": {},
          "execution_count": 9
        }
      ]
    },
    {
      "cell_type": "code",
      "source": [
        "dummy_cols"
      ],
      "metadata": {
        "colab": {
          "base_uri": "https://localhost:8080/"
        },
        "id": "vmxdrp0sMtAH",
        "outputId": "95f607a8-bdec-48ee-fb41-4d298d2078f2"
      },
      "execution_count": null,
      "outputs": [
        {
          "output_type": "execute_result",
          "data": {
            "text/plain": [
              "['cocina',\n",
              " 'excusado',\n",
              " 'uso_compar',\n",
              " 'lavadero',\n",
              " 'fregadero',\n",
              " 'tinaco_azo',\n",
              " 'cisterna',\n",
              " 'pileta',\n",
              " 'calent_sol',\n",
              " 'calent_gas',\n",
              " 'medidor_luz',\n",
              " 'bomba_agua',\n",
              " 'tanque_gas',\n",
              " 'aire_acond',\n",
              " 'calefacc',\n",
              " 'acc_alim1',\n",
              " 'acc_alim2',\n",
              " 'acc_alim3',\n",
              " 'acc_alim6',\n",
              " 'telefono',\n",
              " 'celular',\n",
              " 'conex_inte',\n",
              " 'esc_radio',\n",
              " 'negcua']"
            ]
          },
          "metadata": {},
          "execution_count": 10
        }
      ]
    },
    {
      "cell_type": "code",
      "source": [
        "print(df3.isna().sum().sum())\n",
        "nan_locs = df3[df3.isna().any(axis=1)].stack(dropna=False)\n",
        "nan_locs = nan_locs[nan_locs.isna()].index.tolist()\n",
        "nan_locs  # Por el momento, omitimos la columna ing_tri"
      ],
      "metadata": {
        "colab": {
          "base_uri": "https://localhost:8080/"
        },
        "id": "KaEZQUDURTTd",
        "outputId": "41134690-df1c-42b4-ee2c-266bf0a4fc71"
      },
      "execution_count": null,
      "outputs": [
        {
          "output_type": "stream",
          "name": "stdout",
          "text": [
            "11\n"
          ]
        },
        {
          "output_type": "execute_result",
          "data": {
            "text/plain": [
              "[(7687, 'ing_tri'),\n",
              " (12498, 'ing_tri'),\n",
              " (15538, 'ing_tri'),\n",
              " (22094, 'ing_tri'),\n",
              " (34462, 'ing_tri'),\n",
              " (59993, 'ing_tri'),\n",
              " (60476, 'ing_tri'),\n",
              " (65610, 'ing_tri'),\n",
              " (67089, 'ing_tri'),\n",
              " (73484, 'ing_tri'),\n",
              " (74023, 'ing_tri')]"
            ]
          },
          "metadata": {},
          "execution_count": 11
        }
      ]
    },
    {
      "cell_type": "markdown",
      "source": [
        "## Support Vector Machines"
      ],
      "metadata": {
        "id": "C-RfOIGRO-yJ"
      }
    },
    {
      "cell_type": "code",
      "source": [
        "from sklearn.svm import LinearSVC\n",
        "from sklearn.metrics import accuracy_score\n",
        "from sklearn.model_selection import train_test_split\n",
        "\n",
        "x = df3.drop([\"acc_alim1\", \"ing_tri\"], axis = 1)\n",
        "y = df3.acc_alim1\n",
        "\n",
        "np.random.seed(42)\n",
        "\n",
        "x_train, x_test, y_train, y_test = train_test_split(x, y, test_size = 0.25, stratify = y)\n",
        "\n",
        "model = LinearSVC()\n",
        "model.fit(x_train, y_train)\n",
        "previsiones = model.predict(x_test)\n",
        "\n",
        "tasa_acierto = accuracy_score(y_test, previsiones)\n",
        "print(f\"Entrenaremos con {len(x_train)} elementos y probaremos con {len(x_test)} elementos\")\n",
        "print(f\"La tasa de acierto fue de: {round(tasa_acierto*100, 2)}%\")"
      ],
      "metadata": {
        "colab": {
          "base_uri": "https://localhost:8080/"
        },
        "id": "Vl3xqezMPHYT",
        "outputId": "5834a3be-30fb-4fe0-859a-e1eec1cdf495"
      },
      "execution_count": null,
      "outputs": [
        {
          "output_type": "stream",
          "name": "stdout",
          "text": [
            "Entrenaremos con 59455 elementos y probaremos con 19819 elementos\n",
            "La tasa de acierto fue de: 81.7%\n"
          ]
        },
        {
          "output_type": "stream",
          "name": "stderr",
          "text": [
            "/usr/local/lib/python3.9/dist-packages/sklearn/svm/_base.py:1244: ConvergenceWarning: Liblinear failed to converge, increase the number of iterations.\n",
            "  warnings.warn(\n"
          ]
        }
      ]
    },
    {
      "cell_type": "markdown",
      "source": [
        "## KNN"
      ],
      "metadata": {
        "id": "ChCJPKVJTW91"
      }
    },
    {
      "cell_type": "code",
      "source": [
        "from sklearn.model_selection import train_test_split\n",
        "from sklearn.model_selection import GridSearchCV\n",
        "from sklearn.neighbors import KNeighborsClassifier\n",
        "\n",
        "x = df3.drop([\"acc_alim1\", \"ing_tri\"], axis = 1)\n",
        "y = df3.acc_alim1\n",
        "\n",
        "x_train, x_test, y_train, y_test = train_test_split(x, y, shuffle=True,test_size = 0.25)\n",
        "\n",
        "np.random.seed(42)\n",
        "\n",
        "g = GridSearchCV(KNeighborsClassifier(), {\"n_neighbors\": [5, 7, 11, 13, 17]})\n",
        "g.fit(x_train, y_train)\n",
        "\n",
        "classifier = g.best_estimator_\n",
        "classifier.fit(x_train, y_train)"
      ],
      "metadata": {
        "colab": {
          "base_uri": "https://localhost:8080/",
          "height": 75
        },
        "id": "D1U0AagIX-i-",
        "outputId": "5725b866-d51f-42a4-d516-a6fa2423d05c"
      },
      "execution_count": null,
      "outputs": [
        {
          "output_type": "execute_result",
          "data": {
            "text/plain": [
              "KNeighborsClassifier(n_neighbors=17)"
            ],
            "text/html": [
              "<style>#sk-container-id-1 {color: black;background-color: white;}#sk-container-id-1 pre{padding: 0;}#sk-container-id-1 div.sk-toggleable {background-color: white;}#sk-container-id-1 label.sk-toggleable__label {cursor: pointer;display: block;width: 100%;margin-bottom: 0;padding: 0.3em;box-sizing: border-box;text-align: center;}#sk-container-id-1 label.sk-toggleable__label-arrow:before {content: \"▸\";float: left;margin-right: 0.25em;color: #696969;}#sk-container-id-1 label.sk-toggleable__label-arrow:hover:before {color: black;}#sk-container-id-1 div.sk-estimator:hover label.sk-toggleable__label-arrow:before {color: black;}#sk-container-id-1 div.sk-toggleable__content {max-height: 0;max-width: 0;overflow: hidden;text-align: left;background-color: #f0f8ff;}#sk-container-id-1 div.sk-toggleable__content pre {margin: 0.2em;color: black;border-radius: 0.25em;background-color: #f0f8ff;}#sk-container-id-1 input.sk-toggleable__control:checked~div.sk-toggleable__content {max-height: 200px;max-width: 100%;overflow: auto;}#sk-container-id-1 input.sk-toggleable__control:checked~label.sk-toggleable__label-arrow:before {content: \"▾\";}#sk-container-id-1 div.sk-estimator input.sk-toggleable__control:checked~label.sk-toggleable__label {background-color: #d4ebff;}#sk-container-id-1 div.sk-label input.sk-toggleable__control:checked~label.sk-toggleable__label {background-color: #d4ebff;}#sk-container-id-1 input.sk-hidden--visually {border: 0;clip: rect(1px 1px 1px 1px);clip: rect(1px, 1px, 1px, 1px);height: 1px;margin: -1px;overflow: hidden;padding: 0;position: absolute;width: 1px;}#sk-container-id-1 div.sk-estimator {font-family: monospace;background-color: #f0f8ff;border: 1px dotted black;border-radius: 0.25em;box-sizing: border-box;margin-bottom: 0.5em;}#sk-container-id-1 div.sk-estimator:hover {background-color: #d4ebff;}#sk-container-id-1 div.sk-parallel-item::after {content: \"\";width: 100%;border-bottom: 1px solid gray;flex-grow: 1;}#sk-container-id-1 div.sk-label:hover label.sk-toggleable__label {background-color: #d4ebff;}#sk-container-id-1 div.sk-serial::before {content: \"\";position: absolute;border-left: 1px solid gray;box-sizing: border-box;top: 0;bottom: 0;left: 50%;z-index: 0;}#sk-container-id-1 div.sk-serial {display: flex;flex-direction: column;align-items: center;background-color: white;padding-right: 0.2em;padding-left: 0.2em;position: relative;}#sk-container-id-1 div.sk-item {position: relative;z-index: 1;}#sk-container-id-1 div.sk-parallel {display: flex;align-items: stretch;justify-content: center;background-color: white;position: relative;}#sk-container-id-1 div.sk-item::before, #sk-container-id-1 div.sk-parallel-item::before {content: \"\";position: absolute;border-left: 1px solid gray;box-sizing: border-box;top: 0;bottom: 0;left: 50%;z-index: -1;}#sk-container-id-1 div.sk-parallel-item {display: flex;flex-direction: column;z-index: 1;position: relative;background-color: white;}#sk-container-id-1 div.sk-parallel-item:first-child::after {align-self: flex-end;width: 50%;}#sk-container-id-1 div.sk-parallel-item:last-child::after {align-self: flex-start;width: 50%;}#sk-container-id-1 div.sk-parallel-item:only-child::after {width: 0;}#sk-container-id-1 div.sk-dashed-wrapped {border: 1px dashed gray;margin: 0 0.4em 0.5em 0.4em;box-sizing: border-box;padding-bottom: 0.4em;background-color: white;}#sk-container-id-1 div.sk-label label {font-family: monospace;font-weight: bold;display: inline-block;line-height: 1.2em;}#sk-container-id-1 div.sk-label-container {text-align: center;}#sk-container-id-1 div.sk-container {/* jupyter's `normalize.less` sets `[hidden] { display: none; }` but bootstrap.min.css set `[hidden] { display: none !important; }` so we also need the `!important` here to be able to override the default hidden behavior on the sphinx rendered scikit-learn.org. See: https://github.com/scikit-learn/scikit-learn/issues/21755 */display: inline-block !important;position: relative;}#sk-container-id-1 div.sk-text-repr-fallback {display: none;}</style><div id=\"sk-container-id-1\" class=\"sk-top-container\"><div class=\"sk-text-repr-fallback\"><pre>KNeighborsClassifier(n_neighbors=17)</pre><b>In a Jupyter environment, please rerun this cell to show the HTML representation or trust the notebook. <br />On GitHub, the HTML representation is unable to render, please try loading this page with nbviewer.org.</b></div><div class=\"sk-container\" hidden><div class=\"sk-item\"><div class=\"sk-estimator sk-toggleable\"><input class=\"sk-toggleable__control sk-hidden--visually\" id=\"sk-estimator-id-1\" type=\"checkbox\" checked><label for=\"sk-estimator-id-1\" class=\"sk-toggleable__label sk-toggleable__label-arrow\">KNeighborsClassifier</label><div class=\"sk-toggleable__content\"><pre>KNeighborsClassifier(n_neighbors=17)</pre></div></div></div></div></div>"
            ]
          },
          "metadata": {},
          "execution_count": 13
        }
      ]
    },
    {
      "cell_type": "code",
      "source": [
        "y_pred = classifier.predict(x_test)\n",
        "y_test.values, y_pred"
      ],
      "metadata": {
        "colab": {
          "base_uri": "https://localhost:8080/"
        },
        "id": "-fGx2bPQPH5N",
        "outputId": "e5f5d880-dcb6-4cfa-cb5d-26dd162fd118"
      },
      "execution_count": null,
      "outputs": [
        {
          "output_type": "execute_result",
          "data": {
            "text/plain": [
              "(array([0, 1, 0, ..., 0, 1, 1]), array([1, 1, 0, ..., 0, 1, 1]))"
            ]
          },
          "metadata": {},
          "execution_count": 14
        }
      ]
    },
    {
      "cell_type": "code",
      "source": [
        "from sklearn.metrics import classification_report, confusion_matrix\n",
        "\n",
        "print(confusion_matrix(y_test, y_pred))\n",
        "print(classification_report(y_test, y_pred))"
      ],
      "metadata": {
        "colab": {
          "base_uri": "https://localhost:8080/"
        },
        "id": "mx6l04J7U8vq",
        "outputId": "8f8504b5-c6ff-4f03-b717-5d5ca65b0e37"
      },
      "execution_count": null,
      "outputs": [
        {
          "output_type": "stream",
          "name": "stdout",
          "text": [
            "[[7735 2546]\n",
            " [3413 6125]]\n",
            "              precision    recall  f1-score   support\n",
            "\n",
            "           0       0.69      0.75      0.72     10281\n",
            "           1       0.71      0.64      0.67      9538\n",
            "\n",
            "    accuracy                           0.70     19819\n",
            "   macro avg       0.70      0.70      0.70     19819\n",
            "weighted avg       0.70      0.70      0.70     19819\n",
            "\n"
          ]
        }
      ]
    },
    {
      "cell_type": "markdown",
      "source": [
        "## Random Forest"
      ],
      "metadata": {
        "id": "ZGrXBYDaYkFn"
      }
    },
    {
      "cell_type": "code",
      "source": [
        "from sklearn.tree import DecisionTreeClassifier\n",
        "from sklearn.model_selection import train_test_split\n",
        "from sklearn.metrics import accuracy_score, precision_score, recall_score, f1_score, classification_report\n",
        "\n",
        "x = df3.drop([\"acc_alim1\", \"ing_tri\"], axis = 1)\n",
        "y = df3.acc_alim1\n",
        "\n",
        "X_train, X_test, y_train, y_test = train_test_split(x, y, test_size = 0.25, stratify=y, random_state=1)\n",
        "\n",
        "# instanciamos y ajustamos el modelo\n",
        "dt = DecisionTreeClassifier(max_depth=4, random_state=1)\n",
        "dt.fit(X_train, y_train)\n",
        "\n",
        "# Generamos pronosticos\n",
        "y_pred = dt.predict(X_test)\n",
        "\n",
        "# obtenemos accuracy\n",
        "print('accuracy: ', accuracy_score(y_test, y_pred))\n",
        "print('-'*30)\n",
        "# obtenemos precision\n",
        "print('precision:', precision_score(y_test, y_pred))\n",
        "print('-'*30)\n",
        "# obtenemos recall\n",
        "print('recall:   ', recall_score(y_test, y_pred))\n",
        "print('-'*30)\n",
        "# obtenemos f1\n",
        "print('f1:       ', f1_score(y_test, y_pred))"
      ],
      "metadata": {
        "colab": {
          "base_uri": "https://localhost:8080/"
        },
        "id": "R6pcBBJRY7nd",
        "outputId": "fedc3c96-d31a-4da9-9173-e33eb65f8f89"
      },
      "execution_count": null,
      "outputs": [
        {
          "output_type": "stream",
          "name": "stdout",
          "text": [
            "accuracy:  0.8296079519652858\n",
            "------------------------------\n",
            "precision: 0.8928892889288929\n",
            "------------------------------\n",
            "recall:    0.7318718381112985\n",
            "------------------------------\n",
            "f1:        0.8044019693020562\n"
          ]
        }
      ]
    },
    {
      "cell_type": "code",
      "source": [
        "print(confusion_matrix(y_test, y_pred))\n",
        "print(classification_report(y_test, y_pred))"
      ],
      "metadata": {
        "colab": {
          "base_uri": "https://localhost:8080/"
        },
        "id": "cTtxfs79cx0L",
        "outputId": "e1bee09d-f76d-4ea0-bd21-f052865966c9"
      },
      "execution_count": null,
      "outputs": [
        {
          "output_type": "stream",
          "name": "stdout",
          "text": [
            "[[9498  833]\n",
            " [2544 6944]]\n",
            "              precision    recall  f1-score   support\n",
            "\n",
            "           0       0.79      0.92      0.85     10331\n",
            "           1       0.89      0.73      0.80      9488\n",
            "\n",
            "    accuracy                           0.83     19819\n",
            "   macro avg       0.84      0.83      0.83     19819\n",
            "weighted avg       0.84      0.83      0.83     19819\n",
            "\n"
          ]
        }
      ]
    },
    {
      "cell_type": "code",
      "source": [
        "from sklearn.tree import export_graphviz\n",
        "import graphviz\n",
        "\n",
        "features = x.columns\n",
        "dot_data = export_graphviz(dt, feature_names = features, filled=True, rounded=True, class_names=[\"No\", \"Si\"])\n",
        "grafico = graphviz.Source(dot_data)\n",
        "grafico"
      ],
      "metadata": {
        "colab": {
          "base_uri": "https://localhost:8080/",
          "height": 777
        },
        "id": "LULD-Bfw0IM-",
        "outputId": "b7a6cbb0-1e6a-49a2-ba7d-e572ecb43028"
      },
      "execution_count": null,
      "outputs": [
        {
          "output_type": "execute_result",
          "data": {
            "image/svg+xml": "<?xml version=\"1.0\" encoding=\"UTF-8\" standalone=\"no\"?>\n<!DOCTYPE svg PUBLIC \"-//W3C//DTD SVG 1.1//EN\"\n \"http://www.w3.org/Graphics/SVG/1.1/DTD/svg11.dtd\">\n<!-- Generated by graphviz version 2.43.0 (0)\n -->\n<!-- Title: Tree Pages: 1 -->\n<svg width=\"2245pt\" height=\"552pt\"\n viewBox=\"0.00 0.00 2245.00 552.00\" xmlns=\"http://www.w3.org/2000/svg\" xmlns:xlink=\"http://www.w3.org/1999/xlink\">\n<g id=\"graph0\" class=\"graph\" transform=\"scale(1 1) rotate(0) translate(4 548)\">\n<title>Tree</title>\n<polygon fill=\"white\" stroke=\"transparent\" points=\"-4,4 -4,-548 2241,-548 2241,4 -4,4\"/>\n<!-- 0 -->\n<g id=\"node1\" class=\"node\">\n<title>0</title>\n<path fill=\"#fdf5ef\" stroke=\"black\" d=\"M1194.5,-544C1194.5,-544 1063.5,-544 1063.5,-544 1057.5,-544 1051.5,-538 1051.5,-532 1051.5,-532 1051.5,-473 1051.5,-473 1051.5,-467 1057.5,-461 1063.5,-461 1063.5,-461 1194.5,-461 1194.5,-461 1200.5,-461 1206.5,-467 1206.5,-473 1206.5,-473 1206.5,-532 1206.5,-532 1206.5,-538 1200.5,-544 1194.5,-544\"/>\n<text text-anchor=\"middle\" x=\"1129\" y=\"-528.8\" font-family=\"Helvetica,sans-Serif\" font-size=\"14.00\">acc_alim3 &lt;= 0.5</text>\n<text text-anchor=\"middle\" x=\"1129\" y=\"-513.8\" font-family=\"Helvetica,sans-Serif\" font-size=\"14.00\">gini = 0.499</text>\n<text text-anchor=\"middle\" x=\"1129\" y=\"-498.8\" font-family=\"Helvetica,sans-Serif\" font-size=\"14.00\">samples = 59455</text>\n<text text-anchor=\"middle\" x=\"1129\" y=\"-483.8\" font-family=\"Helvetica,sans-Serif\" font-size=\"14.00\">value = [30990, 28465]</text>\n<text text-anchor=\"middle\" x=\"1129\" y=\"-468.8\" font-family=\"Helvetica,sans-Serif\" font-size=\"14.00\">class = No</text>\n</g>\n<!-- 1 -->\n<g id=\"node2\" class=\"node\">\n<title>1</title>\n<path fill=\"#eeac7c\" stroke=\"black\" d=\"M912.5,-425C912.5,-425 789.5,-425 789.5,-425 783.5,-425 777.5,-419 777.5,-413 777.5,-413 777.5,-354 777.5,-354 777.5,-348 783.5,-342 789.5,-342 789.5,-342 912.5,-342 912.5,-342 918.5,-342 924.5,-348 924.5,-354 924.5,-354 924.5,-413 924.5,-413 924.5,-419 918.5,-425 912.5,-425\"/>\n<text text-anchor=\"middle\" x=\"851\" y=\"-409.8\" font-family=\"Helvetica,sans-Serif\" font-size=\"14.00\">acc_alim6 &lt;= 0.5</text>\n<text text-anchor=\"middle\" x=\"851\" y=\"-394.8\" font-family=\"Helvetica,sans-Serif\" font-size=\"14.00\">gini = 0.379</text>\n<text text-anchor=\"middle\" x=\"851\" y=\"-379.8\" font-family=\"Helvetica,sans-Serif\" font-size=\"14.00\">samples = 38921</text>\n<text text-anchor=\"middle\" x=\"851\" y=\"-364.8\" font-family=\"Helvetica,sans-Serif\" font-size=\"14.00\">value = [29036, 9885]</text>\n<text text-anchor=\"middle\" x=\"851\" y=\"-349.8\" font-family=\"Helvetica,sans-Serif\" font-size=\"14.00\">class = No</text>\n</g>\n<!-- 0&#45;&gt;1 -->\n<g id=\"edge1\" class=\"edge\">\n<title>0&#45;&gt;1</title>\n<path fill=\"none\" stroke=\"black\" d=\"M1051.19,-468.75C1014.76,-453.42 971.33,-435.14 934.25,-419.53\"/>\n<polygon fill=\"black\" stroke=\"black\" points=\"935.54,-416.28 924.96,-415.63 932.82,-422.73 935.54,-416.28\"/>\n<text text-anchor=\"middle\" x=\"934.4\" y=\"-435.08\" font-family=\"Helvetica,sans-Serif\" font-size=\"14.00\">True</text>\n</g>\n<!-- 16 -->\n<g id=\"node17\" class=\"node\">\n<title>16</title>\n<path fill=\"#4ea7e8\" stroke=\"black\" d=\"M1480.5,-425C1480.5,-425 1357.5,-425 1357.5,-425 1351.5,-425 1345.5,-419 1345.5,-413 1345.5,-413 1345.5,-354 1345.5,-354 1345.5,-348 1351.5,-342 1357.5,-342 1357.5,-342 1480.5,-342 1480.5,-342 1486.5,-342 1492.5,-348 1492.5,-354 1492.5,-354 1492.5,-413 1492.5,-413 1492.5,-419 1486.5,-425 1480.5,-425\"/>\n<text text-anchor=\"middle\" x=\"1419\" y=\"-409.8\" font-family=\"Helvetica,sans-Serif\" font-size=\"14.00\">acc_alim6 &lt;= 0.5</text>\n<text text-anchor=\"middle\" x=\"1419\" y=\"-394.8\" font-family=\"Helvetica,sans-Serif\" font-size=\"14.00\">gini = 0.172</text>\n<text text-anchor=\"middle\" x=\"1419\" y=\"-379.8\" font-family=\"Helvetica,sans-Serif\" font-size=\"14.00\">samples = 20534</text>\n<text text-anchor=\"middle\" x=\"1419\" y=\"-364.8\" font-family=\"Helvetica,sans-Serif\" font-size=\"14.00\">value = [1954, 18580]</text>\n<text text-anchor=\"middle\" x=\"1419\" y=\"-349.8\" font-family=\"Helvetica,sans-Serif\" font-size=\"14.00\">class = Si</text>\n</g>\n<!-- 0&#45;&gt;16 -->\n<g id=\"edge16\" class=\"edge\">\n<title>0&#45;&gt;16</title>\n<path fill=\"none\" stroke=\"black\" d=\"M1206.71,-470.15C1246.56,-454.07 1295.12,-434.48 1335.73,-418.09\"/>\n<polygon fill=\"black\" stroke=\"black\" points=\"1337.11,-421.31 1345.07,-414.33 1334.49,-414.82 1337.11,-421.31\"/>\n<text text-anchor=\"middle\" x=\"1335.29\" y=\"-433.63\" font-family=\"Helvetica,sans-Serif\" font-size=\"14.00\">False</text>\n</g>\n<!-- 2 -->\n<g id=\"node3\" class=\"node\">\n<title>2</title>\n<path fill=\"#eca571\" stroke=\"black\" d=\"M508.5,-306C508.5,-306 385.5,-306 385.5,-306 379.5,-306 373.5,-300 373.5,-294 373.5,-294 373.5,-235 373.5,-235 373.5,-229 379.5,-223 385.5,-223 385.5,-223 508.5,-223 508.5,-223 514.5,-223 520.5,-229 520.5,-235 520.5,-235 520.5,-294 520.5,-294 520.5,-300 514.5,-306 508.5,-306\"/>\n<text text-anchor=\"middle\" x=\"447\" y=\"-290.8\" font-family=\"Helvetica,sans-Serif\" font-size=\"14.00\">acc_alim2 &lt;= 0.5</text>\n<text text-anchor=\"middle\" x=\"447\" y=\"-275.8\" font-family=\"Helvetica,sans-Serif\" font-size=\"14.00\">gini = 0.344</text>\n<text text-anchor=\"middle\" x=\"447\" y=\"-260.8\" font-family=\"Helvetica,sans-Serif\" font-size=\"14.00\">samples = 36675</text>\n<text text-anchor=\"middle\" x=\"447\" y=\"-245.8\" font-family=\"Helvetica,sans-Serif\" font-size=\"14.00\">value = [28574, 8101]</text>\n<text text-anchor=\"middle\" x=\"447\" y=\"-230.8\" font-family=\"Helvetica,sans-Serif\" font-size=\"14.00\">class = No</text>\n</g>\n<!-- 1&#45;&gt;2 -->\n<g id=\"edge2\" class=\"edge\">\n<title>1&#45;&gt;2</title>\n<path fill=\"none\" stroke=\"black\" d=\"M777.37,-361.18C707.81,-341.03 603.58,-310.85 530.85,-289.78\"/>\n<polygon fill=\"black\" stroke=\"black\" points=\"531.39,-286.29 520.81,-286.87 529.44,-293.02 531.39,-286.29\"/>\n</g>\n<!-- 9 -->\n<g id=\"node10\" class=\"node\">\n<title>9</title>\n<path fill=\"#6cb6ec\" stroke=\"black\" d=\"M906,-306C906,-306 796,-306 796,-306 790,-306 784,-300 784,-294 784,-294 784,-235 784,-235 784,-229 790,-223 796,-223 796,-223 906,-223 906,-223 912,-223 918,-229 918,-235 918,-235 918,-294 918,-294 918,-300 912,-306 906,-306\"/>\n<text text-anchor=\"middle\" x=\"851\" y=\"-290.8\" font-family=\"Helvetica,sans-Serif\" font-size=\"14.00\">alim17_4 &lt;= &#45;0.594</text>\n<text text-anchor=\"middle\" x=\"851\" y=\"-275.8\" font-family=\"Helvetica,sans-Serif\" font-size=\"14.00\">gini = 0.327</text>\n<text text-anchor=\"middle\" x=\"851\" y=\"-260.8\" font-family=\"Helvetica,sans-Serif\" font-size=\"14.00\">samples = 2246</text>\n<text text-anchor=\"middle\" x=\"851\" y=\"-245.8\" font-family=\"Helvetica,sans-Serif\" font-size=\"14.00\">value = [462, 1784]</text>\n<text text-anchor=\"middle\" x=\"851\" y=\"-230.8\" font-family=\"Helvetica,sans-Serif\" font-size=\"14.00\">class = Si</text>\n</g>\n<!-- 1&#45;&gt;9 -->\n<g id=\"edge9\" class=\"edge\">\n<title>1&#45;&gt;9</title>\n<path fill=\"none\" stroke=\"black\" d=\"M851,-341.91C851,-333.65 851,-324.86 851,-316.3\"/>\n<polygon fill=\"black\" stroke=\"black\" points=\"854.5,-316.02 851,-306.02 847.5,-316.02 854.5,-316.02\"/>\n</g>\n<!-- 3 -->\n<g id=\"node4\" class=\"node\">\n<title>3</title>\n<path fill=\"#eca46f\" stroke=\"black\" d=\"M293.5,-187C293.5,-187 170.5,-187 170.5,-187 164.5,-187 158.5,-181 158.5,-175 158.5,-175 158.5,-116 158.5,-116 158.5,-110 164.5,-104 170.5,-104 170.5,-104 293.5,-104 293.5,-104 299.5,-104 305.5,-110 305.5,-116 305.5,-116 305.5,-175 305.5,-175 305.5,-181 299.5,-187 293.5,-187\"/>\n<text text-anchor=\"middle\" x=\"232\" y=\"-171.8\" font-family=\"Helvetica,sans-Serif\" font-size=\"14.00\">alim17_5 &lt;= &#45;0.224</text>\n<text text-anchor=\"middle\" x=\"232\" y=\"-156.8\" font-family=\"Helvetica,sans-Serif\" font-size=\"14.00\">gini = 0.338</text>\n<text text-anchor=\"middle\" x=\"232\" y=\"-141.8\" font-family=\"Helvetica,sans-Serif\" font-size=\"14.00\">samples = 36333</text>\n<text text-anchor=\"middle\" x=\"232\" y=\"-126.8\" font-family=\"Helvetica,sans-Serif\" font-size=\"14.00\">value = [28514, 7819]</text>\n<text text-anchor=\"middle\" x=\"232\" y=\"-111.8\" font-family=\"Helvetica,sans-Serif\" font-size=\"14.00\">class = No</text>\n</g>\n<!-- 2&#45;&gt;3 -->\n<g id=\"edge3\" class=\"edge\">\n<title>2&#45;&gt;3</title>\n<path fill=\"none\" stroke=\"black\" d=\"M373.31,-223.4C354.34,-213.07 333.8,-201.9 314.41,-191.35\"/>\n<polygon fill=\"black\" stroke=\"black\" points=\"316.05,-188.25 305.59,-186.55 312.7,-194.4 316.05,-188.25\"/>\n</g>\n<!-- 6 -->\n<g id=\"node7\" class=\"node\">\n<title>6</title>\n<path fill=\"#63b2eb\" stroke=\"black\" d=\"M493.5,-187C493.5,-187 400.5,-187 400.5,-187 394.5,-187 388.5,-181 388.5,-175 388.5,-175 388.5,-116 388.5,-116 388.5,-110 394.5,-104 400.5,-104 400.5,-104 493.5,-104 493.5,-104 499.5,-104 505.5,-110 505.5,-116 505.5,-116 505.5,-175 505.5,-175 505.5,-181 499.5,-187 493.5,-187\"/>\n<text text-anchor=\"middle\" x=\"447\" y=\"-171.8\" font-family=\"Helvetica,sans-Serif\" font-size=\"14.00\">edad &lt;= &#45;0.902</text>\n<text text-anchor=\"middle\" x=\"447\" y=\"-156.8\" font-family=\"Helvetica,sans-Serif\" font-size=\"14.00\">gini = 0.289</text>\n<text text-anchor=\"middle\" x=\"447\" y=\"-141.8\" font-family=\"Helvetica,sans-Serif\" font-size=\"14.00\">samples = 342</text>\n<text text-anchor=\"middle\" x=\"447\" y=\"-126.8\" font-family=\"Helvetica,sans-Serif\" font-size=\"14.00\">value = [60, 282]</text>\n<text text-anchor=\"middle\" x=\"447\" y=\"-111.8\" font-family=\"Helvetica,sans-Serif\" font-size=\"14.00\">class = Si</text>\n</g>\n<!-- 2&#45;&gt;6 -->\n<g id=\"edge6\" class=\"edge\">\n<title>2&#45;&gt;6</title>\n<path fill=\"none\" stroke=\"black\" d=\"M447,-222.91C447,-214.65 447,-205.86 447,-197.3\"/>\n<polygon fill=\"black\" stroke=\"black\" points=\"450.5,-197.02 447,-187.02 443.5,-197.02 450.5,-197.02\"/>\n</g>\n<!-- 4 -->\n<g id=\"node5\" class=\"node\">\n<title>4</title>\n<path fill=\"#efb184\" stroke=\"black\" d=\"M128,-68C128,-68 12,-68 12,-68 6,-68 0,-62 0,-56 0,-56 0,-12 0,-12 0,-6 6,0 12,0 12,0 128,0 128,0 134,0 140,-6 140,-12 140,-12 140,-56 140,-56 140,-62 134,-68 128,-68\"/>\n<text text-anchor=\"middle\" x=\"70\" y=\"-52.8\" font-family=\"Helvetica,sans-Serif\" font-size=\"14.00\">gini = 0.399</text>\n<text text-anchor=\"middle\" x=\"70\" y=\"-37.8\" font-family=\"Helvetica,sans-Serif\" font-size=\"14.00\">samples = 13438</text>\n<text text-anchor=\"middle\" x=\"70\" y=\"-22.8\" font-family=\"Helvetica,sans-Serif\" font-size=\"14.00\">value = [9746, 3692]</text>\n<text text-anchor=\"middle\" x=\"70\" y=\"-7.8\" font-family=\"Helvetica,sans-Serif\" font-size=\"14.00\">class = No</text>\n</g>\n<!-- 3&#45;&gt;4 -->\n<g id=\"edge4\" class=\"edge\">\n<title>3&#45;&gt;4</title>\n<path fill=\"none\" stroke=\"black\" d=\"M171.68,-103.73C157.16,-93.92 141.7,-83.46 127.33,-73.75\"/>\n<polygon fill=\"black\" stroke=\"black\" points=\"129.25,-70.83 119.01,-68.13 125.33,-76.62 129.25,-70.83\"/>\n</g>\n<!-- 5 -->\n<g id=\"node6\" class=\"node\">\n<title>5</title>\n<path fill=\"#eb9d65\" stroke=\"black\" d=\"M293.5,-68C293.5,-68 170.5,-68 170.5,-68 164.5,-68 158.5,-62 158.5,-56 158.5,-56 158.5,-12 158.5,-12 158.5,-6 164.5,0 170.5,0 170.5,0 293.5,0 293.5,0 299.5,0 305.5,-6 305.5,-12 305.5,-12 305.5,-56 305.5,-56 305.5,-62 299.5,-68 293.5,-68\"/>\n<text text-anchor=\"middle\" x=\"232\" y=\"-52.8\" font-family=\"Helvetica,sans-Serif\" font-size=\"14.00\">gini = 0.296</text>\n<text text-anchor=\"middle\" x=\"232\" y=\"-37.8\" font-family=\"Helvetica,sans-Serif\" font-size=\"14.00\">samples = 22895</text>\n<text text-anchor=\"middle\" x=\"232\" y=\"-22.8\" font-family=\"Helvetica,sans-Serif\" font-size=\"14.00\">value = [18768, 4127]</text>\n<text text-anchor=\"middle\" x=\"232\" y=\"-7.8\" font-family=\"Helvetica,sans-Serif\" font-size=\"14.00\">class = No</text>\n</g>\n<!-- 3&#45;&gt;5 -->\n<g id=\"edge5\" class=\"edge\">\n<title>3&#45;&gt;5</title>\n<path fill=\"none\" stroke=\"black\" d=\"M232,-103.73C232,-95.52 232,-86.86 232,-78.56\"/>\n<polygon fill=\"black\" stroke=\"black\" points=\"235.5,-78.3 232,-68.3 228.5,-78.3 235.5,-78.3\"/>\n</g>\n<!-- 7 -->\n<g id=\"node8\" class=\"node\">\n<title>7</title>\n<path fill=\"#95cbf1\" stroke=\"black\" d=\"M422,-68C422,-68 336,-68 336,-68 330,-68 324,-62 324,-56 324,-56 324,-12 324,-12 324,-6 330,0 336,0 336,0 422,0 422,0 428,0 434,-6 434,-12 434,-12 434,-56 434,-56 434,-62 428,-68 422,-68\"/>\n<text text-anchor=\"middle\" x=\"379\" y=\"-52.8\" font-family=\"Helvetica,sans-Serif\" font-size=\"14.00\">gini = 0.433</text>\n<text text-anchor=\"middle\" x=\"379\" y=\"-37.8\" font-family=\"Helvetica,sans-Serif\" font-size=\"14.00\">samples = 63</text>\n<text text-anchor=\"middle\" x=\"379\" y=\"-22.8\" font-family=\"Helvetica,sans-Serif\" font-size=\"14.00\">value = [20, 43]</text>\n<text text-anchor=\"middle\" x=\"379\" y=\"-7.8\" font-family=\"Helvetica,sans-Serif\" font-size=\"14.00\">class = Si</text>\n</g>\n<!-- 6&#45;&gt;7 -->\n<g id=\"edge7\" class=\"edge\">\n<title>6&#45;&gt;7</title>\n<path fill=\"none\" stroke=\"black\" d=\"M421.68,-103.73C416.24,-94.97 410.49,-85.7 405.02,-76.91\"/>\n<polygon fill=\"black\" stroke=\"black\" points=\"407.93,-74.95 399.68,-68.3 401.98,-78.64 407.93,-74.95\"/>\n</g>\n<!-- 8 -->\n<g id=\"node9\" class=\"node\">\n<title>8</title>\n<path fill=\"#5aade9\" stroke=\"black\" d=\"M557.5,-68C557.5,-68 464.5,-68 464.5,-68 458.5,-68 452.5,-62 452.5,-56 452.5,-56 452.5,-12 452.5,-12 452.5,-6 458.5,0 464.5,0 464.5,0 557.5,0 557.5,0 563.5,0 569.5,-6 569.5,-12 569.5,-12 569.5,-56 569.5,-56 569.5,-62 563.5,-68 557.5,-68\"/>\n<text text-anchor=\"middle\" x=\"511\" y=\"-52.8\" font-family=\"Helvetica,sans-Serif\" font-size=\"14.00\">gini = 0.246</text>\n<text text-anchor=\"middle\" x=\"511\" y=\"-37.8\" font-family=\"Helvetica,sans-Serif\" font-size=\"14.00\">samples = 279</text>\n<text text-anchor=\"middle\" x=\"511\" y=\"-22.8\" font-family=\"Helvetica,sans-Serif\" font-size=\"14.00\">value = [40, 239]</text>\n<text text-anchor=\"middle\" x=\"511\" y=\"-7.8\" font-family=\"Helvetica,sans-Serif\" font-size=\"14.00\">class = Si</text>\n</g>\n<!-- 6&#45;&gt;8 -->\n<g id=\"edge8\" class=\"edge\">\n<title>6&#45;&gt;8</title>\n<path fill=\"none\" stroke=\"black\" d=\"M470.83,-103.73C475.9,-95.06 481.25,-85.9 486.35,-77.18\"/>\n<polygon fill=\"black\" stroke=\"black\" points=\"489.51,-78.7 491.54,-68.3 483.47,-75.17 489.51,-78.7\"/>\n</g>\n<!-- 10 -->\n<g id=\"node11\" class=\"node\">\n<title>10</title>\n<path fill=\"#5fb0ea\" stroke=\"black\" d=\"M836.5,-187C836.5,-187 709.5,-187 709.5,-187 703.5,-187 697.5,-181 697.5,-175 697.5,-175 697.5,-116 697.5,-116 697.5,-110 703.5,-104 709.5,-104 709.5,-104 836.5,-104 836.5,-104 842.5,-104 848.5,-110 848.5,-116 848.5,-116 848.5,-175 848.5,-175 848.5,-181 842.5,-187 836.5,-187\"/>\n<text text-anchor=\"middle\" x=\"773\" y=\"-171.8\" font-family=\"Helvetica,sans-Serif\" font-size=\"14.00\">num_cuarto &lt;= &#45;1.494</text>\n<text text-anchor=\"middle\" x=\"773\" y=\"-156.8\" font-family=\"Helvetica,sans-Serif\" font-size=\"14.00\">gini = 0.269</text>\n<text text-anchor=\"middle\" x=\"773\" y=\"-141.8\" font-family=\"Helvetica,sans-Serif\" font-size=\"14.00\">samples = 986</text>\n<text text-anchor=\"middle\" x=\"773\" y=\"-126.8\" font-family=\"Helvetica,sans-Serif\" font-size=\"14.00\">value = [158, 828]</text>\n<text text-anchor=\"middle\" x=\"773\" y=\"-111.8\" font-family=\"Helvetica,sans-Serif\" font-size=\"14.00\">class = Si</text>\n</g>\n<!-- 9&#45;&gt;10 -->\n<g id=\"edge10\" class=\"edge\">\n<title>9&#45;&gt;10</title>\n<path fill=\"none\" stroke=\"black\" d=\"M823.94,-222.91C818.07,-214.1 811.8,-204.7 805.74,-195.61\"/>\n<polygon fill=\"black\" stroke=\"black\" points=\"808.47,-193.4 800.01,-187.02 802.65,-197.28 808.47,-193.4\"/>\n</g>\n<!-- 13 -->\n<g id=\"node14\" class=\"node\">\n<title>13</title>\n<path fill=\"#78bced\" stroke=\"black\" d=\"M979.5,-187C979.5,-187 878.5,-187 878.5,-187 872.5,-187 866.5,-181 866.5,-175 866.5,-175 866.5,-116 866.5,-116 866.5,-110 872.5,-104 878.5,-104 878.5,-104 979.5,-104 979.5,-104 985.5,-104 991.5,-110 991.5,-116 991.5,-116 991.5,-175 991.5,-175 991.5,-181 985.5,-187 979.5,-187\"/>\n<text text-anchor=\"middle\" x=\"929\" y=\"-171.8\" font-family=\"Helvetica,sans-Serif\" font-size=\"14.00\">edad &lt;= 0.481</text>\n<text text-anchor=\"middle\" x=\"929\" y=\"-156.8\" font-family=\"Helvetica,sans-Serif\" font-size=\"14.00\">gini = 0.366</text>\n<text text-anchor=\"middle\" x=\"929\" y=\"-141.8\" font-family=\"Helvetica,sans-Serif\" font-size=\"14.00\">samples = 1260</text>\n<text text-anchor=\"middle\" x=\"929\" y=\"-126.8\" font-family=\"Helvetica,sans-Serif\" font-size=\"14.00\">value = [304, 956]</text>\n<text text-anchor=\"middle\" x=\"929\" y=\"-111.8\" font-family=\"Helvetica,sans-Serif\" font-size=\"14.00\">class = Si</text>\n</g>\n<!-- 9&#45;&gt;13 -->\n<g id=\"edge13\" class=\"edge\">\n<title>9&#45;&gt;13</title>\n<path fill=\"none\" stroke=\"black\" d=\"M878.06,-222.91C883.93,-214.1 890.2,-204.7 896.26,-195.61\"/>\n<polygon fill=\"black\" stroke=\"black\" points=\"899.35,-197.28 901.99,-187.02 893.53,-193.4 899.35,-197.28\"/>\n</g>\n<!-- 11 -->\n<g id=\"node12\" class=\"node\">\n<title>11</title>\n<path fill=\"#a5d2f3\" stroke=\"black\" d=\"M686,-68C686,-68 600,-68 600,-68 594,-68 588,-62 588,-56 588,-56 588,-12 588,-12 588,-6 594,0 600,0 600,0 686,0 686,0 692,0 698,-6 698,-12 698,-12 698,-56 698,-56 698,-62 692,-68 686,-68\"/>\n<text text-anchor=\"middle\" x=\"643\" y=\"-52.8\" font-family=\"Helvetica,sans-Serif\" font-size=\"14.00\">gini = 0.456</text>\n<text text-anchor=\"middle\" x=\"643\" y=\"-37.8\" font-family=\"Helvetica,sans-Serif\" font-size=\"14.00\">samples = 71</text>\n<text text-anchor=\"middle\" x=\"643\" y=\"-22.8\" font-family=\"Helvetica,sans-Serif\" font-size=\"14.00\">value = [25, 46]</text>\n<text text-anchor=\"middle\" x=\"643\" y=\"-7.8\" font-family=\"Helvetica,sans-Serif\" font-size=\"14.00\">class = Si</text>\n</g>\n<!-- 10&#45;&gt;11 -->\n<g id=\"edge11\" class=\"edge\">\n<title>10&#45;&gt;11</title>\n<path fill=\"none\" stroke=\"black\" d=\"M724.59,-103.73C713.44,-94.33 701.59,-84.35 690.47,-74.99\"/>\n<polygon fill=\"black\" stroke=\"black\" points=\"692.44,-72.06 682.53,-68.3 687.93,-77.42 692.44,-72.06\"/>\n</g>\n<!-- 12 -->\n<g id=\"node13\" class=\"node\">\n<title>12</title>\n<path fill=\"#5baee9\" stroke=\"black\" d=\"M829.5,-68C829.5,-68 728.5,-68 728.5,-68 722.5,-68 716.5,-62 716.5,-56 716.5,-56 716.5,-12 716.5,-12 716.5,-6 722.5,0 728.5,0 728.5,0 829.5,0 829.5,0 835.5,0 841.5,-6 841.5,-12 841.5,-12 841.5,-56 841.5,-56 841.5,-62 835.5,-68 829.5,-68\"/>\n<text text-anchor=\"middle\" x=\"779\" y=\"-52.8\" font-family=\"Helvetica,sans-Serif\" font-size=\"14.00\">gini = 0.248</text>\n<text text-anchor=\"middle\" x=\"779\" y=\"-37.8\" font-family=\"Helvetica,sans-Serif\" font-size=\"14.00\">samples = 915</text>\n<text text-anchor=\"middle\" x=\"779\" y=\"-22.8\" font-family=\"Helvetica,sans-Serif\" font-size=\"14.00\">value = [133, 782]</text>\n<text text-anchor=\"middle\" x=\"779\" y=\"-7.8\" font-family=\"Helvetica,sans-Serif\" font-size=\"14.00\">class = Si</text>\n</g>\n<!-- 10&#45;&gt;12 -->\n<g id=\"edge12\" class=\"edge\">\n<title>10&#45;&gt;12</title>\n<path fill=\"none\" stroke=\"black\" d=\"M775.23,-103.73C775.68,-95.52 776.16,-86.86 776.61,-78.56\"/>\n<polygon fill=\"black\" stroke=\"black\" points=\"780.12,-78.48 777.18,-68.3 773.13,-78.09 780.12,-78.48\"/>\n</g>\n<!-- 14 -->\n<g id=\"node15\" class=\"node\">\n<title>14</title>\n<path fill=\"#6fb8ec\" stroke=\"black\" d=\"M972.5,-68C972.5,-68 871.5,-68 871.5,-68 865.5,-68 859.5,-62 859.5,-56 859.5,-56 859.5,-12 859.5,-12 859.5,-6 865.5,0 871.5,0 871.5,0 972.5,0 972.5,0 978.5,0 984.5,-6 984.5,-12 984.5,-12 984.5,-56 984.5,-56 984.5,-62 978.5,-68 972.5,-68\"/>\n<text text-anchor=\"middle\" x=\"922\" y=\"-52.8\" font-family=\"Helvetica,sans-Serif\" font-size=\"14.00\">gini = 0.337</text>\n<text text-anchor=\"middle\" x=\"922\" y=\"-37.8\" font-family=\"Helvetica,sans-Serif\" font-size=\"14.00\">samples = 978</text>\n<text text-anchor=\"middle\" x=\"922\" y=\"-22.8\" font-family=\"Helvetica,sans-Serif\" font-size=\"14.00\">value = [210, 768]</text>\n<text text-anchor=\"middle\" x=\"922\" y=\"-7.8\" font-family=\"Helvetica,sans-Serif\" font-size=\"14.00\">class = Si</text>\n</g>\n<!-- 13&#45;&gt;14 -->\n<g id=\"edge14\" class=\"edge\">\n<title>13&#45;&gt;14</title>\n<path fill=\"none\" stroke=\"black\" d=\"M926.39,-103.73C925.86,-95.43 925.3,-86.67 924.77,-78.28\"/>\n<polygon fill=\"black\" stroke=\"black\" points=\"928.26,-78.06 924.13,-68.3 921.27,-78.5 928.26,-78.06\"/>\n</g>\n<!-- 15 -->\n<g id=\"node16\" class=\"node\">\n<title>15</title>\n<path fill=\"#9ccef2\" stroke=\"black\" d=\"M1107.5,-68C1107.5,-68 1014.5,-68 1014.5,-68 1008.5,-68 1002.5,-62 1002.5,-56 1002.5,-56 1002.5,-12 1002.5,-12 1002.5,-6 1008.5,0 1014.5,0 1014.5,0 1107.5,0 1107.5,0 1113.5,0 1119.5,-6 1119.5,-12 1119.5,-12 1119.5,-56 1119.5,-56 1119.5,-62 1113.5,-68 1107.5,-68\"/>\n<text text-anchor=\"middle\" x=\"1061\" y=\"-52.8\" font-family=\"Helvetica,sans-Serif\" font-size=\"14.00\">gini = 0.444</text>\n<text text-anchor=\"middle\" x=\"1061\" y=\"-37.8\" font-family=\"Helvetica,sans-Serif\" font-size=\"14.00\">samples = 282</text>\n<text text-anchor=\"middle\" x=\"1061\" y=\"-22.8\" font-family=\"Helvetica,sans-Serif\" font-size=\"14.00\">value = [94, 188]</text>\n<text text-anchor=\"middle\" x=\"1061\" y=\"-7.8\" font-family=\"Helvetica,sans-Serif\" font-size=\"14.00\">class = Si</text>\n</g>\n<!-- 13&#45;&gt;15 -->\n<g id=\"edge15\" class=\"edge\">\n<title>13&#45;&gt;15</title>\n<path fill=\"none\" stroke=\"black\" d=\"M978.15,-103.73C989.59,-94.24 1001.74,-84.16 1013.12,-74.72\"/>\n<polygon fill=\"black\" stroke=\"black\" points=\"1015.4,-77.38 1020.86,-68.3 1010.93,-71.99 1015.4,-77.38\"/>\n</g>\n<!-- 17 -->\n<g id=\"node18\" class=\"node\">\n<title>17</title>\n<path fill=\"#61b1ea\" stroke=\"black\" d=\"M1477,-306C1477,-306 1361,-306 1361,-306 1355,-306 1349,-300 1349,-294 1349,-294 1349,-235 1349,-235 1349,-229 1355,-223 1361,-223 1361,-223 1477,-223 1477,-223 1483,-223 1489,-229 1489,-235 1489,-235 1489,-294 1489,-294 1489,-300 1483,-306 1477,-306\"/>\n<text text-anchor=\"middle\" x=\"1419\" y=\"-290.8\" font-family=\"Helvetica,sans-Serif\" font-size=\"14.00\">acc_alim2 &lt;= 0.5</text>\n<text text-anchor=\"middle\" x=\"1419\" y=\"-275.8\" font-family=\"Helvetica,sans-Serif\" font-size=\"14.00\">gini = 0.278</text>\n<text text-anchor=\"middle\" x=\"1419\" y=\"-260.8\" font-family=\"Helvetica,sans-Serif\" font-size=\"14.00\">samples = 7607</text>\n<text text-anchor=\"middle\" x=\"1419\" y=\"-245.8\" font-family=\"Helvetica,sans-Serif\" font-size=\"14.00\">value = [1270, 6337]</text>\n<text text-anchor=\"middle\" x=\"1419\" y=\"-230.8\" font-family=\"Helvetica,sans-Serif\" font-size=\"14.00\">class = Si</text>\n</g>\n<!-- 16&#45;&gt;17 -->\n<g id=\"edge17\" class=\"edge\">\n<title>16&#45;&gt;17</title>\n<path fill=\"none\" stroke=\"black\" d=\"M1419,-341.91C1419,-333.65 1419,-324.86 1419,-316.3\"/>\n<polygon fill=\"black\" stroke=\"black\" points=\"1422.5,-316.02 1419,-306.02 1415.5,-316.02 1422.5,-316.02\"/>\n</g>\n<!-- 24 -->\n<g id=\"node25\" class=\"node\">\n<title>24</title>\n<path fill=\"#44a2e6\" stroke=\"black\" d=\"M1891,-306C1891,-306 1775,-306 1775,-306 1769,-306 1763,-300 1763,-294 1763,-294 1763,-235 1763,-235 1763,-229 1769,-223 1775,-223 1775,-223 1891,-223 1891,-223 1897,-223 1903,-229 1903,-235 1903,-235 1903,-294 1903,-294 1903,-300 1897,-306 1891,-306\"/>\n<text text-anchor=\"middle\" x=\"1833\" y=\"-290.8\" font-family=\"Helvetica,sans-Serif\" font-size=\"14.00\">acc_alim2 &lt;= 0.5</text>\n<text text-anchor=\"middle\" x=\"1833\" y=\"-275.8\" font-family=\"Helvetica,sans-Serif\" font-size=\"14.00\">gini = 0.1</text>\n<text text-anchor=\"middle\" x=\"1833\" y=\"-260.8\" font-family=\"Helvetica,sans-Serif\" font-size=\"14.00\">samples = 12927</text>\n<text text-anchor=\"middle\" x=\"1833\" y=\"-245.8\" font-family=\"Helvetica,sans-Serif\" font-size=\"14.00\">value = [684, 12243]</text>\n<text text-anchor=\"middle\" x=\"1833\" y=\"-230.8\" font-family=\"Helvetica,sans-Serif\" font-size=\"14.00\">class = Si</text>\n</g>\n<!-- 16&#45;&gt;24 -->\n<g id=\"edge24\" class=\"edge\">\n<title>16&#45;&gt;24</title>\n<path fill=\"none\" stroke=\"black\" d=\"M1492.54,-361.72C1565.7,-341.04 1677.63,-309.41 1752.99,-288.11\"/>\n<polygon fill=\"black\" stroke=\"black\" points=\"1754.24,-291.4 1762.91,-285.31 1752.33,-284.66 1754.24,-291.4\"/>\n</g>\n<!-- 18 -->\n<g id=\"node19\" class=\"node\">\n<title>18</title>\n<path fill=\"#66b3eb\" stroke=\"black\" d=\"M1402,-187C1402,-187 1286,-187 1286,-187 1280,-187 1274,-181 1274,-175 1274,-175 1274,-116 1274,-116 1274,-110 1280,-104 1286,-104 1286,-104 1402,-104 1402,-104 1408,-104 1414,-110 1414,-116 1414,-116 1414,-175 1414,-175 1414,-181 1408,-187 1402,-187\"/>\n<text text-anchor=\"middle\" x=\"1344\" y=\"-171.8\" font-family=\"Helvetica,sans-Serif\" font-size=\"14.00\">edad &lt;= &#45;0.366</text>\n<text text-anchor=\"middle\" x=\"1344\" y=\"-156.8\" font-family=\"Helvetica,sans-Serif\" font-size=\"14.00\">gini = 0.3</text>\n<text text-anchor=\"middle\" x=\"1344\" y=\"-141.8\" font-family=\"Helvetica,sans-Serif\" font-size=\"14.00\">samples = 6522</text>\n<text text-anchor=\"middle\" x=\"1344\" y=\"-126.8\" font-family=\"Helvetica,sans-Serif\" font-size=\"14.00\">value = [1199, 5323]</text>\n<text text-anchor=\"middle\" x=\"1344\" y=\"-111.8\" font-family=\"Helvetica,sans-Serif\" font-size=\"14.00\">class = Si</text>\n</g>\n<!-- 17&#45;&gt;18 -->\n<g id=\"edge18\" class=\"edge\">\n<title>17&#45;&gt;18</title>\n<path fill=\"none\" stroke=\"black\" d=\"M1392.98,-222.91C1387.34,-214.1 1381.31,-204.7 1375.48,-195.61\"/>\n<polygon fill=\"black\" stroke=\"black\" points=\"1378.32,-193.55 1369.97,-187.02 1372.43,-197.33 1378.32,-193.55\"/>\n</g>\n<!-- 21 -->\n<g id=\"node22\" class=\"node\">\n<title>21</title>\n<path fill=\"#47a4e7\" stroke=\"black\" d=\"M1545.5,-187C1545.5,-187 1444.5,-187 1444.5,-187 1438.5,-187 1432.5,-181 1432.5,-175 1432.5,-175 1432.5,-116 1432.5,-116 1432.5,-110 1438.5,-104 1444.5,-104 1444.5,-104 1545.5,-104 1545.5,-104 1551.5,-104 1557.5,-110 1557.5,-116 1557.5,-116 1557.5,-175 1557.5,-175 1557.5,-181 1551.5,-187 1545.5,-187\"/>\n<text text-anchor=\"middle\" x=\"1495\" y=\"-171.8\" font-family=\"Helvetica,sans-Serif\" font-size=\"14.00\">hor_8 &lt;= &#45;1.326</text>\n<text text-anchor=\"middle\" x=\"1495\" y=\"-156.8\" font-family=\"Helvetica,sans-Serif\" font-size=\"14.00\">gini = 0.122</text>\n<text text-anchor=\"middle\" x=\"1495\" y=\"-141.8\" font-family=\"Helvetica,sans-Serif\" font-size=\"14.00\">samples = 1085</text>\n<text text-anchor=\"middle\" x=\"1495\" y=\"-126.8\" font-family=\"Helvetica,sans-Serif\" font-size=\"14.00\">value = [71, 1014]</text>\n<text text-anchor=\"middle\" x=\"1495\" y=\"-111.8\" font-family=\"Helvetica,sans-Serif\" font-size=\"14.00\">class = Si</text>\n</g>\n<!-- 17&#45;&gt;21 -->\n<g id=\"edge21\" class=\"edge\">\n<title>17&#45;&gt;21</title>\n<path fill=\"none\" stroke=\"black\" d=\"M1445.37,-222.91C1451.09,-214.1 1457.19,-204.7 1463.1,-195.61\"/>\n<polygon fill=\"black\" stroke=\"black\" points=\"1466.17,-197.31 1468.68,-187.02 1460.3,-193.5 1466.17,-197.31\"/>\n</g>\n<!-- 19 -->\n<g id=\"node20\" class=\"node\">\n<title>19</title>\n<path fill=\"#5fb0ea\" stroke=\"black\" d=\"M1258,-68C1258,-68 1150,-68 1150,-68 1144,-68 1138,-62 1138,-56 1138,-56 1138,-12 1138,-12 1138,-6 1144,0 1150,0 1150,0 1258,0 1258,0 1264,0 1270,-6 1270,-12 1270,-12 1270,-56 1270,-56 1270,-62 1264,-68 1258,-68\"/>\n<text text-anchor=\"middle\" x=\"1204\" y=\"-52.8\" font-family=\"Helvetica,sans-Serif\" font-size=\"14.00\">gini = 0.268</text>\n<text text-anchor=\"middle\" x=\"1204\" y=\"-37.8\" font-family=\"Helvetica,sans-Serif\" font-size=\"14.00\">samples = 3000</text>\n<text text-anchor=\"middle\" x=\"1204\" y=\"-22.8\" font-family=\"Helvetica,sans-Serif\" font-size=\"14.00\">value = [478, 2522]</text>\n<text text-anchor=\"middle\" x=\"1204\" y=\"-7.8\" font-family=\"Helvetica,sans-Serif\" font-size=\"14.00\">class = Si</text>\n</g>\n<!-- 18&#45;&gt;19 -->\n<g id=\"edge19\" class=\"edge\">\n<title>18&#45;&gt;19</title>\n<path fill=\"none\" stroke=\"black\" d=\"M1291.87,-103.73C1279.74,-94.24 1266.85,-84.16 1254.78,-74.72\"/>\n<polygon fill=\"black\" stroke=\"black\" points=\"1256.61,-71.7 1246.57,-68.3 1252.3,-77.22 1256.61,-71.7\"/>\n</g>\n<!-- 20 -->\n<g id=\"node21\" class=\"node\">\n<title>20</title>\n<path fill=\"#6cb6ec\" stroke=\"black\" d=\"M1408,-68C1408,-68 1300,-68 1300,-68 1294,-68 1288,-62 1288,-56 1288,-56 1288,-12 1288,-12 1288,-6 1294,0 1300,0 1300,0 1408,0 1408,0 1414,0 1420,-6 1420,-12 1420,-12 1420,-56 1420,-56 1420,-62 1414,-68 1408,-68\"/>\n<text text-anchor=\"middle\" x=\"1354\" y=\"-52.8\" font-family=\"Helvetica,sans-Serif\" font-size=\"14.00\">gini = 0.326</text>\n<text text-anchor=\"middle\" x=\"1354\" y=\"-37.8\" font-family=\"Helvetica,sans-Serif\" font-size=\"14.00\">samples = 3522</text>\n<text text-anchor=\"middle\" x=\"1354\" y=\"-22.8\" font-family=\"Helvetica,sans-Serif\" font-size=\"14.00\">value = [721, 2801]</text>\n<text text-anchor=\"middle\" x=\"1354\" y=\"-7.8\" font-family=\"Helvetica,sans-Serif\" font-size=\"14.00\">class = Si</text>\n</g>\n<!-- 18&#45;&gt;20 -->\n<g id=\"edge20\" class=\"edge\">\n<title>18&#45;&gt;20</title>\n<path fill=\"none\" stroke=\"black\" d=\"M1347.72,-103.73C1348.48,-95.43 1349.28,-86.67 1350.05,-78.28\"/>\n<polygon fill=\"black\" stroke=\"black\" points=\"1353.53,-78.58 1350.96,-68.3 1346.56,-77.94 1353.53,-78.58\"/>\n</g>\n<!-- 22 -->\n<g id=\"node23\" class=\"node\">\n<title>22</title>\n<path fill=\"#ffffff\" stroke=\"black\" d=\"M1521.5,-68C1521.5,-68 1450.5,-68 1450.5,-68 1444.5,-68 1438.5,-62 1438.5,-56 1438.5,-56 1438.5,-12 1438.5,-12 1438.5,-6 1444.5,0 1450.5,0 1450.5,0 1521.5,0 1521.5,0 1527.5,0 1533.5,-6 1533.5,-12 1533.5,-12 1533.5,-56 1533.5,-56 1533.5,-62 1527.5,-68 1521.5,-68\"/>\n<text text-anchor=\"middle\" x=\"1486\" y=\"-52.8\" font-family=\"Helvetica,sans-Serif\" font-size=\"14.00\">gini = 0.5</text>\n<text text-anchor=\"middle\" x=\"1486\" y=\"-37.8\" font-family=\"Helvetica,sans-Serif\" font-size=\"14.00\">samples = 6</text>\n<text text-anchor=\"middle\" x=\"1486\" y=\"-22.8\" font-family=\"Helvetica,sans-Serif\" font-size=\"14.00\">value = [3, 3]</text>\n<text text-anchor=\"middle\" x=\"1486\" y=\"-7.8\" font-family=\"Helvetica,sans-Serif\" font-size=\"14.00\">class = No</text>\n</g>\n<!-- 21&#45;&gt;22 -->\n<g id=\"edge22\" class=\"edge\">\n<title>21&#45;&gt;22</title>\n<path fill=\"none\" stroke=\"black\" d=\"M1491.65,-103.73C1490.97,-95.43 1490.25,-86.67 1489.56,-78.28\"/>\n<polygon fill=\"black\" stroke=\"black\" points=\"1493.04,-77.98 1488.74,-68.3 1486.07,-78.55 1493.04,-77.98\"/>\n</g>\n<!-- 23 -->\n<g id=\"node24\" class=\"node\">\n<title>23</title>\n<path fill=\"#46a4e7\" stroke=\"black\" d=\"M1664.5,-68C1664.5,-68 1563.5,-68 1563.5,-68 1557.5,-68 1551.5,-62 1551.5,-56 1551.5,-56 1551.5,-12 1551.5,-12 1551.5,-6 1557.5,0 1563.5,0 1563.5,0 1664.5,0 1664.5,0 1670.5,0 1676.5,-6 1676.5,-12 1676.5,-12 1676.5,-56 1676.5,-56 1676.5,-62 1670.5,-68 1664.5,-68\"/>\n<text text-anchor=\"middle\" x=\"1614\" y=\"-52.8\" font-family=\"Helvetica,sans-Serif\" font-size=\"14.00\">gini = 0.118</text>\n<text text-anchor=\"middle\" x=\"1614\" y=\"-37.8\" font-family=\"Helvetica,sans-Serif\" font-size=\"14.00\">samples = 1079</text>\n<text text-anchor=\"middle\" x=\"1614\" y=\"-22.8\" font-family=\"Helvetica,sans-Serif\" font-size=\"14.00\">value = [68, 1011]</text>\n<text text-anchor=\"middle\" x=\"1614\" y=\"-7.8\" font-family=\"Helvetica,sans-Serif\" font-size=\"14.00\">class = Si</text>\n</g>\n<!-- 21&#45;&gt;23 -->\n<g id=\"edge23\" class=\"edge\">\n<title>21&#45;&gt;23</title>\n<path fill=\"none\" stroke=\"black\" d=\"M1539.31,-103.73C1549.42,-94.42 1560.16,-84.54 1570.25,-75.26\"/>\n<polygon fill=\"black\" stroke=\"black\" points=\"1572.82,-77.65 1577.81,-68.3 1568.08,-72.5 1572.82,-77.65\"/>\n</g>\n<!-- 25 -->\n<g id=\"node26\" class=\"node\">\n<title>25</title>\n<path fill=\"#4aa6e7\" stroke=\"black\" d=\"M1887,-187C1887,-187 1779,-187 1779,-187 1773,-187 1767,-181 1767,-175 1767,-175 1767,-116 1767,-116 1767,-110 1773,-104 1779,-104 1779,-104 1887,-104 1887,-104 1893,-104 1899,-110 1899,-116 1899,-116 1899,-175 1899,-175 1899,-181 1893,-187 1887,-187\"/>\n<text text-anchor=\"middle\" x=\"1833\" y=\"-171.8\" font-family=\"Helvetica,sans-Serif\" font-size=\"14.00\">edad &lt;= 0.975</text>\n<text text-anchor=\"middle\" x=\"1833\" y=\"-156.8\" font-family=\"Helvetica,sans-Serif\" font-size=\"14.00\">gini = 0.148</text>\n<text text-anchor=\"middle\" x=\"1833\" y=\"-141.8\" font-family=\"Helvetica,sans-Serif\" font-size=\"14.00\">samples = 6815</text>\n<text text-anchor=\"middle\" x=\"1833\" y=\"-126.8\" font-family=\"Helvetica,sans-Serif\" font-size=\"14.00\">value = [549, 6266]</text>\n<text text-anchor=\"middle\" x=\"1833\" y=\"-111.8\" font-family=\"Helvetica,sans-Serif\" font-size=\"14.00\">class = Si</text>\n</g>\n<!-- 24&#45;&gt;25 -->\n<g id=\"edge25\" class=\"edge\">\n<title>24&#45;&gt;25</title>\n<path fill=\"none\" stroke=\"black\" d=\"M1833,-222.91C1833,-214.65 1833,-205.86 1833,-197.3\"/>\n<polygon fill=\"black\" stroke=\"black\" points=\"1836.5,-197.02 1833,-187.02 1829.5,-197.02 1836.5,-197.02\"/>\n</g>\n<!-- 28 -->\n<g id=\"node29\" class=\"node\">\n<title>28</title>\n<path fill=\"#3d9fe6\" stroke=\"black\" d=\"M2109,-187C2109,-187 2001,-187 2001,-187 1995,-187 1989,-181 1989,-175 1989,-175 1989,-116 1989,-116 1989,-110 1995,-104 2001,-104 2001,-104 2109,-104 2109,-104 2115,-104 2121,-110 2121,-116 2121,-116 2121,-175 2121,-175 2121,-181 2115,-187 2109,-187\"/>\n<text text-anchor=\"middle\" x=\"2055\" y=\"-171.8\" font-family=\"Helvetica,sans-Serif\" font-size=\"14.00\">num_van &lt;= 3.457</text>\n<text text-anchor=\"middle\" x=\"2055\" y=\"-156.8\" font-family=\"Helvetica,sans-Serif\" font-size=\"14.00\">gini = 0.043</text>\n<text text-anchor=\"middle\" x=\"2055\" y=\"-141.8\" font-family=\"Helvetica,sans-Serif\" font-size=\"14.00\">samples = 6112</text>\n<text text-anchor=\"middle\" x=\"2055\" y=\"-126.8\" font-family=\"Helvetica,sans-Serif\" font-size=\"14.00\">value = [135, 5977]</text>\n<text text-anchor=\"middle\" x=\"2055\" y=\"-111.8\" font-family=\"Helvetica,sans-Serif\" font-size=\"14.00\">class = Si</text>\n</g>\n<!-- 24&#45;&gt;28 -->\n<g id=\"edge28\" class=\"edge\">\n<title>24&#45;&gt;28</title>\n<path fill=\"none\" stroke=\"black\" d=\"M1903.24,-226.48C1927.68,-213.6 1955.18,-199.11 1979.99,-186.03\"/>\n<polygon fill=\"black\" stroke=\"black\" points=\"1981.78,-189.05 1988.99,-181.29 1978.52,-182.85 1981.78,-189.05\"/>\n</g>\n<!-- 26 -->\n<g id=\"node27\" class=\"node\">\n<title>26</title>\n<path fill=\"#48a5e7\" stroke=\"black\" d=\"M1815,-68C1815,-68 1707,-68 1707,-68 1701,-68 1695,-62 1695,-56 1695,-56 1695,-12 1695,-12 1695,-6 1701,0 1707,0 1707,0 1815,0 1815,0 1821,0 1827,-6 1827,-12 1827,-12 1827,-56 1827,-56 1827,-62 1821,-68 1815,-68\"/>\n<text text-anchor=\"middle\" x=\"1761\" y=\"-52.8\" font-family=\"Helvetica,sans-Serif\" font-size=\"14.00\">gini = 0.134</text>\n<text text-anchor=\"middle\" x=\"1761\" y=\"-37.8\" font-family=\"Helvetica,sans-Serif\" font-size=\"14.00\">samples = 5734</text>\n<text text-anchor=\"middle\" x=\"1761\" y=\"-22.8\" font-family=\"Helvetica,sans-Serif\" font-size=\"14.00\">value = [414, 5320]</text>\n<text text-anchor=\"middle\" x=\"1761\" y=\"-7.8\" font-family=\"Helvetica,sans-Serif\" font-size=\"14.00\">class = Si</text>\n</g>\n<!-- 25&#45;&gt;26 -->\n<g id=\"edge26\" class=\"edge\">\n<title>25&#45;&gt;26</title>\n<path fill=\"none\" stroke=\"black\" d=\"M1806.19,-103.73C1800.43,-94.97 1794.34,-85.7 1788.55,-76.91\"/>\n<polygon fill=\"black\" stroke=\"black\" points=\"1791.31,-74.73 1782.9,-68.3 1785.47,-78.58 1791.31,-74.73\"/>\n</g>\n<!-- 27 -->\n<g id=\"node28\" class=\"node\">\n<title>27</title>\n<path fill=\"#55abe9\" stroke=\"black\" d=\"M1958.5,-68C1958.5,-68 1857.5,-68 1857.5,-68 1851.5,-68 1845.5,-62 1845.5,-56 1845.5,-56 1845.5,-12 1845.5,-12 1845.5,-6 1851.5,0 1857.5,0 1857.5,0 1958.5,0 1958.5,0 1964.5,0 1970.5,-6 1970.5,-12 1970.5,-12 1970.5,-56 1970.5,-56 1970.5,-62 1964.5,-68 1958.5,-68\"/>\n<text text-anchor=\"middle\" x=\"1908\" y=\"-52.8\" font-family=\"Helvetica,sans-Serif\" font-size=\"14.00\">gini = 0.219</text>\n<text text-anchor=\"middle\" x=\"1908\" y=\"-37.8\" font-family=\"Helvetica,sans-Serif\" font-size=\"14.00\">samples = 1081</text>\n<text text-anchor=\"middle\" x=\"1908\" y=\"-22.8\" font-family=\"Helvetica,sans-Serif\" font-size=\"14.00\">value = [135, 946]</text>\n<text text-anchor=\"middle\" x=\"1908\" y=\"-7.8\" font-family=\"Helvetica,sans-Serif\" font-size=\"14.00\">class = Si</text>\n</g>\n<!-- 25&#45;&gt;27 -->\n<g id=\"edge27\" class=\"edge\">\n<title>25&#45;&gt;27</title>\n<path fill=\"none\" stroke=\"black\" d=\"M1860.93,-103.73C1866.99,-94.88 1873.4,-85.51 1879.49,-76.63\"/>\n<polygon fill=\"black\" stroke=\"black\" points=\"1882.43,-78.53 1885.19,-68.3 1876.65,-74.57 1882.43,-78.53\"/>\n</g>\n<!-- 29 -->\n<g id=\"node30\" class=\"node\">\n<title>29</title>\n<path fill=\"#3d9fe6\" stroke=\"black\" d=\"M2109,-68C2109,-68 2001,-68 2001,-68 1995,-68 1989,-62 1989,-56 1989,-56 1989,-12 1989,-12 1989,-6 1995,0 2001,0 2001,0 2109,0 2109,0 2115,0 2121,-6 2121,-12 2121,-12 2121,-56 2121,-56 2121,-62 2115,-68 2109,-68\"/>\n<text text-anchor=\"middle\" x=\"2055\" y=\"-52.8\" font-family=\"Helvetica,sans-Serif\" font-size=\"14.00\">gini = 0.042</text>\n<text text-anchor=\"middle\" x=\"2055\" y=\"-37.8\" font-family=\"Helvetica,sans-Serif\" font-size=\"14.00\">samples = 6102</text>\n<text text-anchor=\"middle\" x=\"2055\" y=\"-22.8\" font-family=\"Helvetica,sans-Serif\" font-size=\"14.00\">value = [131, 5971]</text>\n<text text-anchor=\"middle\" x=\"2055\" y=\"-7.8\" font-family=\"Helvetica,sans-Serif\" font-size=\"14.00\">class = Si</text>\n</g>\n<!-- 28&#45;&gt;29 -->\n<g id=\"edge29\" class=\"edge\">\n<title>28&#45;&gt;29</title>\n<path fill=\"none\" stroke=\"black\" d=\"M2055,-103.73C2055,-95.52 2055,-86.86 2055,-78.56\"/>\n<polygon fill=\"black\" stroke=\"black\" points=\"2058.5,-78.3 2055,-68.3 2051.5,-78.3 2058.5,-78.3\"/>\n</g>\n<!-- 30 -->\n<g id=\"node31\" class=\"node\">\n<title>30</title>\n<path fill=\"#bddef6\" stroke=\"black\" d=\"M2225,-68C2225,-68 2151,-68 2151,-68 2145,-68 2139,-62 2139,-56 2139,-56 2139,-12 2139,-12 2139,-6 2145,0 2151,0 2151,0 2225,0 2225,0 2231,0 2237,-6 2237,-12 2237,-12 2237,-56 2237,-56 2237,-62 2231,-68 2225,-68\"/>\n<text text-anchor=\"middle\" x=\"2188\" y=\"-52.8\" font-family=\"Helvetica,sans-Serif\" font-size=\"14.00\">gini = 0.48</text>\n<text text-anchor=\"middle\" x=\"2188\" y=\"-37.8\" font-family=\"Helvetica,sans-Serif\" font-size=\"14.00\">samples = 10</text>\n<text text-anchor=\"middle\" x=\"2188\" y=\"-22.8\" font-family=\"Helvetica,sans-Serif\" font-size=\"14.00\">value = [4, 6]</text>\n<text text-anchor=\"middle\" x=\"2188\" y=\"-7.8\" font-family=\"Helvetica,sans-Serif\" font-size=\"14.00\">class = Si</text>\n</g>\n<!-- 28&#45;&gt;30 -->\n<g id=\"edge30\" class=\"edge\">\n<title>28&#45;&gt;30</title>\n<path fill=\"none\" stroke=\"black\" d=\"M2104.52,-103.73C2116.05,-94.24 2128.3,-84.16 2139.76,-74.72\"/>\n<polygon fill=\"black\" stroke=\"black\" points=\"2142.06,-77.36 2147.55,-68.3 2137.61,-71.95 2142.06,-77.36\"/>\n</g>\n</g>\n</svg>\n",
            "text/plain": [
              "<graphviz.sources.Source at 0x7fd811993b20>"
            ]
          },
          "metadata": {},
          "execution_count": 18
        }
      ]
    },
    {
      "cell_type": "markdown",
      "source": [
        "#### Las variables más relevantes fueron\n",
        "\n",
        "* acc_alim6: Comió menos\n",
        "* acc_alim2: Sin comida\n",
        "* alim17_4: Número de días que comieron frutas"
      ],
      "metadata": {
        "id": "znDzpVGj4rPz"
      }
    },
    {
      "cell_type": "code",
      "source": [
        "# Valores predichos\n",
        "values, counts = np.unique(y_pred, return_counts=True)\n",
        "\n",
        "print(values) \n",
        "print(counts) "
      ],
      "metadata": {
        "colab": {
          "base_uri": "https://localhost:8080/"
        },
        "id": "2pQv-RrJ5eDn",
        "outputId": "874ea842-e903-4d12-fcf6-1932e9b95c0f"
      },
      "execution_count": null,
      "outputs": [
        {
          "output_type": "stream",
          "name": "stdout",
          "text": [
            "[0 1]\n",
            "[12042  7777]\n"
          ]
        }
      ]
    },
    {
      "cell_type": "code",
      "source": [
        "# Valores de prueba\n",
        "values, counts = np.unique(y_test, return_counts=True)\n",
        "\n",
        "print(values) \n",
        "print(counts) "
      ],
      "metadata": {
        "colab": {
          "base_uri": "https://localhost:8080/"
        },
        "id": "84bbLuCm6MeT",
        "outputId": "a80a39a7-e5e5-4b0f-ebb6-c4842f6afed4"
      },
      "execution_count": null,
      "outputs": [
        {
          "output_type": "stream",
          "name": "stdout",
          "text": [
            "[0 1]\n",
            "[10331  9488]\n"
          ]
        }
      ]
    },
    {
      "cell_type": "markdown",
      "source": [
        "#### Probando parámetros"
      ],
      "metadata": {
        "id": "RXNoRlWFna9E"
      }
    },
    {
      "cell_type": "markdown",
      "source": [
        "#### Iteración 2"
      ],
      "metadata": {
        "id": "6KtlBLR8nQm5"
      }
    },
    {
      "cell_type": "code",
      "source": [
        " '''\n",
        "from sklearn.tree import DecisionTreeClassifier\n",
        "from sklearn.model_selection import train_test_split\n",
        "from sklearn.metrics import accuracy_score, precision_score, recall_score, f1_score, classification_report\n",
        "\n",
        "x = df3.drop([\"acc_alim1\", \"ing_tri\"], axis = 1)\n",
        "y = df3.acc_alim1\n",
        "\n",
        "X_train, X_test, y_train, y_test = train_test_split(x, y, test_size = 0.25, stratify=y, random_state=1)\n",
        "\n",
        "# instanciamos y ajustamos el modelo\n",
        "dt = DecisionTreeClassifier(max_depth=4, random_state=1)\n",
        "dt.fit(X_train, y_train)\n",
        "\n",
        "# Generamos pronosticos\n",
        "y_pred = dt.predict(X_test)\n",
        "\n",
        "# obtenemos accuracy\n",
        "print('accuracy: ', accuracy_score(y_test, y_pred))\n",
        "print('-'*30)\n",
        "# obtenemos precision\n",
        "print('precision:', precision_score(y_test, y_pred))\n",
        "print('-'*30)\n",
        "# obtenemos recall\n",
        "print('recall:   ', recall_score(y_test, y_pred))\n",
        "print('-'*30)\n",
        "# obtenemos f1\n",
        "print('f1:       ', f1_score(y_test, y_pred))\n",
        "'''"
      ],
      "metadata": {
        "colab": {
          "base_uri": "https://localhost:8080/",
          "height": 87
        },
        "id": "RySKeRdcnTW5",
        "outputId": "e3c166c9-6cb9-4b73-e571-b2537f9e560f"
      },
      "execution_count": null,
      "outputs": [
        {
          "output_type": "execute_result",
          "data": {
            "text/plain": [
              "'\\nfrom sklearn.tree import DecisionTreeClassifier\\nfrom sklearn.model_selection import train_test_split\\nfrom sklearn.metrics import accuracy_score, precision_score, recall_score, f1_score, classification_report\\n\\nx = df3.drop([\"acc_alim1\", \"ing_tri\"], axis = 1)\\ny = df3.acc_alim1\\n\\nX_train, X_test, y_train, y_test = train_test_split(x, y, test_size = 0.25, stratify=y, random_state=1)\\n\\n# instanciamos y ajustamos el modelo\\ndt = DecisionTreeClassifier(max_depth=4, random_state=1)\\ndt.fit(X_train, y_train)\\n\\n# Generamos pronosticos\\ny_pred = dt.predict(X_test)\\n\\n# obtenemos accuracy\\nprint(\\'accuracy: \\', accuracy_score(y_test, y_pred))\\nprint(\\'-\\'*30)\\n# obtenemos precision\\nprint(\\'precision:\\', precision_score(y_test, y_pred))\\nprint(\\'-\\'*30)\\n# obtenemos recall\\nprint(\\'recall:   \\', recall_score(y_test, y_pred))\\nprint(\\'-\\'*30)\\n# obtenemos f1\\nprint(\\'f1:       \\', f1_score(y_test, y_pred))\\n'"
            ],
            "application/vnd.google.colaboratory.intrinsic+json": {
              "type": "string"
            }
          },
          "metadata": {},
          "execution_count": 1
        }
      ]
    }
  ]
}